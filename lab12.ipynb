{
 "cells": [
  {
   "cell_type": "markdown",
   "metadata": {},
   "source": [
    "Before you turn this assignment in, make sure everything runs as expected. First, **restart the kernel** (in the menubar, select Kernel$\\rightarrow$Restart) and then **run all cells** (in the menubar, select Cell$\\rightarrow$Run All). Lastly, hit **Validate**.\n",
    "\n",
    "If you worked locally, and then uploaded your work to the hub, make sure to follow these steps:\n",
    "- open your uploaded notebook **on the hub**\n",
    "- hit the validate button right above this cell, from inside the notebook\n",
    "\n",
    "These  steps should solve any issue related to submitting the notebook on the hub.\n",
    "\n",
    "Make sure you fill in any place that says `YOUR CODE HERE` or \"YOUR ANSWER HERE\", as well as your name and collaborators below:"
   ]
  },
  {
   "cell_type": "code",
   "execution_count": 1,
   "metadata": {},
   "outputs": [],
   "source": [
    "NAME = \"Zihan Zhou\"\n",
    "COLLABORATORS = \"\""
   ]
  },
  {
   "cell_type": "markdown",
   "metadata": {},
   "source": [
    "---"
   ]
  },
  {
   "cell_type": "markdown",
   "metadata": {
    "deletable": false,
    "editable": false,
    "nbgrader": {
     "cell_type": "markdown",
     "checksum": "eb963bbafdbfd07fbb21d00d951f6ce2",
     "grade": false,
     "grade_id": "lab12",
     "locked": true,
     "schema_version": 2,
     "solution": false
    }
   },
   "source": [
    "# Lab 12: Baby-Weights\n",
    "\n",
    "** This assignment is due 04/16/2018 at 11:59pm **\n",
    "\n",
    "In this lab, we investigate the connection between smoking during pregnancy and infant health using the `babies` dataset—observations for 1236 live male births containing information on the mother’s pre-pregnancy health and fetal growth. Specifically, we have information on the mother’s age, weight, height, smoking status, and prior pregnancies, as well as the length of the pregnancy and infant’s birthweight."
   ]
  },
  {
   "cell_type": "code",
   "execution_count": 2,
   "metadata": {
    "deletable": false,
    "editable": false,
    "nbgrader": {
     "cell_type": "code",
     "checksum": "7d862803aa8a9dab6d857a15773a5093",
     "grade": false,
     "grade_id": "imports",
     "locked": true,
     "schema_version": 2,
     "solution": false
    }
   },
   "outputs": [],
   "source": [
    "import pandas as pd\n",
    "import numpy as np\n",
    "import seaborn as sns\n",
    "sns.set(style = \"whitegrid\", \n",
    "        color_codes = True,\n",
    "        font_scale = 1.5)\n",
    "\n",
    "import matplotlib.pyplot as plt\n",
    "%matplotlib inline"
   ]
  },
  {
   "cell_type": "markdown",
   "metadata": {
    "deletable": false,
    "editable": false,
    "nbgrader": {
     "cell_type": "markdown",
     "checksum": "aa432a8e6de1f4c9a6bc1edf458e7330",
     "grade": false,
     "grade_id": "part-1",
     "locked": true,
     "schema_version": 2,
     "solution": false
    }
   },
   "source": [
    "## Part 1: Exploring & Cleaning the Data\n",
    "\n",
    "In this part, we will examine the `babies` dataset and prepare it for model-fitting in Part 2. Most of the code has been provided for you.\n",
    "\n",
    "First, run the cell below to load the `babies` dataset into a DataFrame called `babies`."
   ]
  },
  {
   "cell_type": "code",
   "execution_count": 3,
   "metadata": {
    "deletable": false,
    "editable": false,
    "nbgrader": {
     "cell_type": "code",
     "checksum": "b3269aca685ecb712001ef1300925515",
     "grade": false,
     "grade_id": "load-data",
     "locked": true,
     "schema_version": 2,
     "solution": false
    }
   },
   "outputs": [
    {
     "data": {
      "text/html": [
       "<div>\n",
       "<style scoped>\n",
       "    .dataframe tbody tr th:only-of-type {\n",
       "        vertical-align: middle;\n",
       "    }\n",
       "\n",
       "    .dataframe tbody tr th {\n",
       "        vertical-align: top;\n",
       "    }\n",
       "\n",
       "    .dataframe thead th {\n",
       "        text-align: right;\n",
       "    }\n",
       "</style>\n",
       "<table border=\"1\" class=\"dataframe\">\n",
       "  <thead>\n",
       "    <tr style=\"text-align: right;\">\n",
       "      <th></th>\n",
       "      <th>bwt</th>\n",
       "      <th>gestation</th>\n",
       "      <th>parity</th>\n",
       "      <th>age</th>\n",
       "      <th>height</th>\n",
       "      <th>weight</th>\n",
       "      <th>smoke</th>\n",
       "    </tr>\n",
       "  </thead>\n",
       "  <tbody>\n",
       "    <tr>\n",
       "      <th>0</th>\n",
       "      <td>120</td>\n",
       "      <td>284</td>\n",
       "      <td>0</td>\n",
       "      <td>27</td>\n",
       "      <td>62</td>\n",
       "      <td>100</td>\n",
       "      <td>0</td>\n",
       "    </tr>\n",
       "    <tr>\n",
       "      <th>1</th>\n",
       "      <td>113</td>\n",
       "      <td>282</td>\n",
       "      <td>0</td>\n",
       "      <td>33</td>\n",
       "      <td>64</td>\n",
       "      <td>135</td>\n",
       "      <td>0</td>\n",
       "    </tr>\n",
       "    <tr>\n",
       "      <th>2</th>\n",
       "      <td>128</td>\n",
       "      <td>279</td>\n",
       "      <td>0</td>\n",
       "      <td>28</td>\n",
       "      <td>64</td>\n",
       "      <td>115</td>\n",
       "      <td>1</td>\n",
       "    </tr>\n",
       "    <tr>\n",
       "      <th>3</th>\n",
       "      <td>123</td>\n",
       "      <td>999</td>\n",
       "      <td>0</td>\n",
       "      <td>36</td>\n",
       "      <td>69</td>\n",
       "      <td>190</td>\n",
       "      <td>0</td>\n",
       "    </tr>\n",
       "    <tr>\n",
       "      <th>4</th>\n",
       "      <td>108</td>\n",
       "      <td>282</td>\n",
       "      <td>0</td>\n",
       "      <td>23</td>\n",
       "      <td>67</td>\n",
       "      <td>125</td>\n",
       "      <td>1</td>\n",
       "    </tr>\n",
       "  </tbody>\n",
       "</table>\n",
       "</div>"
      ],
      "text/plain": [
       "   bwt  gestation  parity  age  height  weight  smoke\n",
       "0  120        284       0   27      62     100      0\n",
       "1  113        282       0   33      64     135      0\n",
       "2  128        279       0   28      64     115      1\n",
       "3  123        999       0   36      69     190      0\n",
       "4  108        282       0   23      67     125      1"
      ]
     },
     "execution_count": 3,
     "metadata": {},
     "output_type": "execute_result"
    }
   ],
   "source": [
    "# load the data\n",
    "babies = pd.read_csv('data/babies.data', sep = r'\\s+')\n",
    "babies.head()"
   ]
  },
  {
   "cell_type": "markdown",
   "metadata": {
    "deletable": false,
    "editable": false,
    "nbgrader": {
     "cell_type": "markdown",
     "checksum": "be38db346d13569c544b11ee71fd719e",
     "grade": false,
     "grade_id": "missing-vals",
     "locked": true,
     "schema_version": 2,
     "solution": false
    }
   },
   "source": [
    "Look closely at the 'gestation' column above, which represents the length of the mother's pregnancy in days. Do any particular values stand out?\n",
    "\n",
    "It turns out that some of the columns have entries '99' or '999' for data that is actually missing. To clear any confusion, run the cell below to replace all those missing entries with NaN values."
   ]
  },
  {
   "cell_type": "code",
   "execution_count": 4,
   "metadata": {
    "deletable": false,
    "editable": false,
    "nbgrader": {
     "cell_type": "code",
     "checksum": "596622fd37561278d602689b9c945544",
     "grade": false,
     "grade_id": "missing-vals-code",
     "locked": true,
     "schema_version": 2,
     "solution": false
    }
   },
   "outputs": [
    {
     "data": {
      "text/html": [
       "<div>\n",
       "<style scoped>\n",
       "    .dataframe tbody tr th:only-of-type {\n",
       "        vertical-align: middle;\n",
       "    }\n",
       "\n",
       "    .dataframe tbody tr th {\n",
       "        vertical-align: top;\n",
       "    }\n",
       "\n",
       "    .dataframe thead th {\n",
       "        text-align: right;\n",
       "    }\n",
       "</style>\n",
       "<table border=\"1\" class=\"dataframe\">\n",
       "  <thead>\n",
       "    <tr style=\"text-align: right;\">\n",
       "      <th></th>\n",
       "      <th>bwt</th>\n",
       "      <th>gestation</th>\n",
       "      <th>parity</th>\n",
       "      <th>age</th>\n",
       "      <th>height</th>\n",
       "      <th>weight</th>\n",
       "      <th>smoke</th>\n",
       "    </tr>\n",
       "  </thead>\n",
       "  <tbody>\n",
       "    <tr>\n",
       "      <th>0</th>\n",
       "      <td>120</td>\n",
       "      <td>284.0</td>\n",
       "      <td>not first child</td>\n",
       "      <td>27.0</td>\n",
       "      <td>62.0</td>\n",
       "      <td>100.0</td>\n",
       "      <td>non-smoker</td>\n",
       "    </tr>\n",
       "    <tr>\n",
       "      <th>1</th>\n",
       "      <td>113</td>\n",
       "      <td>282.0</td>\n",
       "      <td>not first child</td>\n",
       "      <td>33.0</td>\n",
       "      <td>64.0</td>\n",
       "      <td>135.0</td>\n",
       "      <td>non-smoker</td>\n",
       "    </tr>\n",
       "    <tr>\n",
       "      <th>2</th>\n",
       "      <td>128</td>\n",
       "      <td>279.0</td>\n",
       "      <td>not first child</td>\n",
       "      <td>28.0</td>\n",
       "      <td>64.0</td>\n",
       "      <td>115.0</td>\n",
       "      <td>smoker</td>\n",
       "    </tr>\n",
       "    <tr>\n",
       "      <th>3</th>\n",
       "      <td>123</td>\n",
       "      <td>NaN</td>\n",
       "      <td>not first child</td>\n",
       "      <td>36.0</td>\n",
       "      <td>69.0</td>\n",
       "      <td>190.0</td>\n",
       "      <td>non-smoker</td>\n",
       "    </tr>\n",
       "    <tr>\n",
       "      <th>4</th>\n",
       "      <td>108</td>\n",
       "      <td>282.0</td>\n",
       "      <td>not first child</td>\n",
       "      <td>23.0</td>\n",
       "      <td>67.0</td>\n",
       "      <td>125.0</td>\n",
       "      <td>smoker</td>\n",
       "    </tr>\n",
       "  </tbody>\n",
       "</table>\n",
       "</div>"
      ],
      "text/plain": [
       "   bwt  gestation           parity   age  height  weight       smoke\n",
       "0  120      284.0  not first child  27.0    62.0   100.0  non-smoker\n",
       "1  113      282.0  not first child  33.0    64.0   135.0  non-smoker\n",
       "2  128      279.0  not first child  28.0    64.0   115.0      smoker\n",
       "3  123        NaN  not first child  36.0    69.0   190.0  non-smoker\n",
       "4  108      282.0  not first child  23.0    67.0   125.0      smoker"
      ]
     },
     "execution_count": 4,
     "metadata": {},
     "output_type": "execute_result"
    }
   ],
   "source": [
    "# replace various missingness codes with NA\n",
    "# and categorical data with actual categories\n",
    "babies.replace({\"gestation\": {999 : np.nan},\n",
    "                \"age\"   : {99  : np.nan},\n",
    "                \"height\": {99  : np.nan},\n",
    "                \"weight\": {999 : np.nan},\n",
    "                \"smoke\" : {0   : \"non-smoker\",\n",
    "                           1   : \"smoker\",\n",
    "                           9   : np.nan},\n",
    "                \"parity\": {0   : \"not first child\",\n",
    "                           1   : \"first child\"}}, \n",
    "               inplace = True)\n",
    "\n",
    "babies.head()"
   ]
  },
  {
   "cell_type": "markdown",
   "metadata": {
    "deletable": false,
    "editable": false,
    "nbgrader": {
     "cell_type": "markdown",
     "checksum": "8d374d57802dafc2849855be60673ce2",
     "grade": false,
     "grade_id": "eda",
     "locked": true,
     "schema_version": 2,
     "solution": false
    }
   },
   "source": [
    "Now that our data no longer has misleading values, let's visualize the data. Run the cell below to generate a violin plot, which compares the distributions of the babies' birth weights depending on four different categories. For each category, we split the dataset into 2 parts..."
   ]
  },
  {
   "cell_type": "code",
   "execution_count": 5,
   "metadata": {
    "deletable": false,
    "editable": false,
    "nbgrader": {
     "cell_type": "code",
     "checksum": "3b2668be6a6b902ee3c09c316323b3f4",
     "grade": false,
     "grade_id": "eda-code",
     "locked": true,
     "schema_version": 2,
     "solution": false
    }
   },
   "outputs": [
    {
     "data": {
      "image/png": "[encoded data removed]",
      "text/plain": [
       "<matplotlib.figure.Figure at 0x7fe1ad1aceb8>"
      ]
     },
     "metadata": {},
     "output_type": "display_data"
    }
   ],
   "source": [
    "# divide mothers by their covariates\n",
    "babies_by_category = babies \\\n",
    ".assign(smoker = (babies[\"smoke\"] == \"smoker\"),\n",
    "        heavy  = (babies[\"weight\"] > babies[\"weight\"].median()),\n",
    "        tall   = (babies[\"height\"] > babies[\"height\"].median()),\n",
    "        firstborn = (babies[\"parity\"] == \"first child\")) \\\n",
    ".loc[:, [\"bwt\", \"smoker\", \"heavy\", \"tall\", \"firstborn\"]] \\\n",
    ".rename(columns = {\"firstborn\": \"first-born\",\n",
    "                   \"bwt\" : \"birth-weight\"}) \n",
    "\n",
    "plt.figure(figsize = (9, 7))\n",
    "\n",
    "# compare birthweight distributions for each category\n",
    "sns.violinplot(x = \"variable\", \n",
    "               y = \"birth-weight\", \n",
    "               hue = \"value\", \n",
    "               data = babies_by_category.melt([\"birth-weight\"]).dropna(),\n",
    "               split = True,    \n",
    "               scale = \"count\", # scale each KDE by number of samples\n",
    "               inner = None)\n",
    "\n",
    "plt.title(\"Birth-Weight Distribution Comparison for Various Categories\")\n",
    "plt.xlabel(\"\")\n",
    "plt.ylabel(\"Birth-Weight (oz)\")\n",
    "plt.legend(title = \"\", loc = \"right\", bbox_to_anchor = (1.2, 0.5))\n",
    "plt.show()"
   ]
  },
  {
   "cell_type": "markdown",
   "metadata": {
    "deletable": false,
    "editable": false,
    "nbgrader": {
     "cell_type": "markdown",
     "checksum": "9e1ad66b3828557341c8d3ef0eb13ec5",
     "grade": false,
     "grade_id": "q1",
     "locked": true,
     "schema_version": 2,
     "solution": false
    }
   },
   "source": [
    "### Question 1\n",
    "\n",
    "Pick a category above and write 1 sentence explaining the difference between the corresponding green (`category=True`) distribution and the blue (`category=False`) distribution. How do the distributions of baby birth weights differ based on whether or not the category is `True` or `False`?"
   ]
  },
  {
   "cell_type": "markdown",
   "metadata": {
    "deletable": false,
    "nbgrader": {
     "cell_type": "markdown",
     "checksum": "159996193110b9937912ac2697a103d6",
     "grade": true,
     "grade_id": "q1-answer",
     "locked": false,
     "points": 1,
     "schema_version": 2,
     "solution": true
    }
   },
   "source": [
    "For the smoker category, the green distribution is alomost normal, which has a mean about 125. The blue distribution is also about normal, and a little skews to right, while it has a mean about 115. It also has a much smaller quantity comparing to the green. "
   ]
  },
  {
   "cell_type": "markdown",
   "metadata": {
    "deletable": false,
    "editable": false,
    "nbgrader": {
     "cell_type": "markdown",
     "checksum": "5f8fd0eac86008a09d80e05870454925",
     "grade": false,
     "grade_id": "part-2",
     "locked": true,
     "schema_version": 2,
     "solution": false
    }
   },
   "source": [
    "## Part 2: Fitting a Linear Model\n",
    "\n",
    "In this part, we will perform linear regression according to the model below in order to predict baby birth weights.\n",
    "\n",
    "$$\n",
    "\\texttt{birth-weight}_i\n",
    "= \\beta_0^* \n",
    "+ \\beta_\\texttt{gestation}^*\\cdot\\texttt{gestation}_i\n",
    "+ \\beta_\\texttt{smoke}^*\\cdot\\texttt{smoke}_i\n",
    "+ \\beta_\\texttt{height}^*\\cdot\\texttt{height}_i\n",
    "+ \\beta_\\texttt{weight}^*\\cdot\\texttt{weight}_i\n",
    "+ \\varepsilon_i\n",
    "$$\n",
    "\n",
    "To make the math easier and avoid any funky errors, run the cell below to drop all rows of `babies` with NaN values."
   ]
  },
  {
   "cell_type": "code",
   "execution_count": 6,
   "metadata": {
    "deletable": false,
    "editable": false,
    "nbgrader": {
     "cell_type": "code",
     "checksum": "af337db92407f27a4cb3c7f9d88b561e",
     "grade": false,
     "grade_id": "dropna",
     "locked": true,
     "schema_version": 2,
     "solution": false
    }
   },
   "outputs": [],
   "source": [
    "babies = babies.dropna()"
   ]
  },
  {
   "cell_type": "markdown",
   "metadata": {
    "deletable": false,
    "editable": false,
    "nbgrader": {
     "cell_type": "markdown",
     "checksum": "6b3ac466101338f27e351f47e474b686",
     "grade": false,
     "grade_id": "q2",
     "locked": true,
     "schema_version": 2,
     "solution": false
    }
   },
   "source": [
    "### Question 2\n",
    "\n",
    "Now, let's create a linear regression model to predict the babies' birth weights (`y`) given information about each baby's mother (`X`). \n",
    "\n",
    "#### Question 2a\n",
    "First, let's create `X` below.\n",
    "* `X` should contain columns 'gestation', 'smoke', 'height', and 'weight' from the `babies` data frame (**in that order**)\n",
    "* Notice that in order to fit a linear model to `X`, all of our columns in `X` must be numeric. When dealing with the `smoke` column, replace all 'smoker' entries with a 1, and all 'non-smoker' entries with a 0"
   ]
  },
  {
   "cell_type": "code",
   "execution_count": 14,
   "metadata": {
    "deletable": false,
    "nbgrader": {
     "cell_type": "code",
     "checksum": "5d634552ff093207e9dec04c47bbfd61",
     "grade": false,
     "grade_id": "q2a-answer",
     "locked": false,
     "schema_version": 2,
     "solution": true
    }
   },
   "outputs": [
    {
     "data": {
      "text/html": [
       "<div>\n",
       "<style scoped>\n",
       "    .dataframe tbody tr th:only-of-type {\n",
       "        vertical-align: middle;\n",
       "    }\n",
       "\n",
       "    .dataframe tbody tr th {\n",
       "        vertical-align: top;\n",
       "    }\n",
       "\n",
       "    .dataframe thead th {\n",
       "        text-align: right;\n",
       "    }\n",
       "</style>\n",
       "<table border=\"1\" class=\"dataframe\">\n",
       "  <thead>\n",
       "    <tr style=\"text-align: right;\">\n",
       "      <th></th>\n",
       "      <th>gestation</th>\n",
       "      <th>smoke</th>\n",
       "      <th>height</th>\n",
       "      <th>weight</th>\n",
       "    </tr>\n",
       "  </thead>\n",
       "  <tbody>\n",
       "    <tr>\n",
       "      <th>0</th>\n",
       "      <td>284.0</td>\n",
       "      <td>0</td>\n",
       "      <td>62.0</td>\n",
       "      <td>100.0</td>\n",
       "    </tr>\n",
       "    <tr>\n",
       "      <th>1</th>\n",
       "      <td>282.0</td>\n",
       "      <td>0</td>\n",
       "      <td>64.0</td>\n",
       "      <td>135.0</td>\n",
       "    </tr>\n",
       "    <tr>\n",
       "      <th>2</th>\n",
       "      <td>279.0</td>\n",
       "      <td>1</td>\n",
       "      <td>64.0</td>\n",
       "      <td>115.0</td>\n",
       "    </tr>\n",
       "    <tr>\n",
       "      <th>4</th>\n",
       "      <td>282.0</td>\n",
       "      <td>1</td>\n",
       "      <td>67.0</td>\n",
       "      <td>125.0</td>\n",
       "    </tr>\n",
       "    <tr>\n",
       "      <th>5</th>\n",
       "      <td>286.0</td>\n",
       "      <td>0</td>\n",
       "      <td>62.0</td>\n",
       "      <td>93.0</td>\n",
       "    </tr>\n",
       "  </tbody>\n",
       "</table>\n",
       "</div>"
      ],
      "text/plain": [
       "   gestation  smoke  height  weight\n",
       "0      284.0      0    62.0   100.0\n",
       "1      282.0      0    64.0   135.0\n",
       "2      279.0      1    64.0   115.0\n",
       "4      282.0      1    67.0   125.0\n",
       "5      286.0      0    62.0    93.0"
      ]
     },
     "execution_count": 14,
     "metadata": {},
     "output_type": "execute_result"
    }
   ],
   "source": [
    "# YOUR CODE HERE\n",
    "X = pd.DataFrame()\n",
    "X['gestation'] = babies['gestation']\n",
    "X['smoke'] = babies['smoke'].replace({\"non-smoker\":0, \"smoker\":1})\n",
    "X['height'] = babies['height']\n",
    "X['weight'] = babies['weight']\n",
    "\n",
    "X.head()"
   ]
  },
  {
   "cell_type": "code",
   "execution_count": 15,
   "metadata": {
    "deletable": false,
    "editable": false,
    "nbgrader": {
     "cell_type": "code",
     "checksum": "d063d9f50ee35244a4fa7b6095ed68dd",
     "grade": true,
     "grade_id": "q2a-tests",
     "locked": true,
     "points": 1,
     "schema_version": 2,
     "solution": false
    }
   },
   "outputs": [],
   "source": [
    "assert len(X.columns) == 4\n",
    "\n",
    "# if this fails, make sure X contains the correct columns following the order below\n",
    "assert np.all(X.columns == ['gestation', 'smoke', 'height', 'weight'])\n",
    "\n",
    "# if this fails, make sure there are no NaNs in your babies df\n",
    "assert not np.any(X.isna())\n",
    "\n",
    "assert np.all(np.unique(X['smoke'].values) == np.array([0, 1]))"
   ]
  },
  {
   "cell_type": "markdown",
   "metadata": {
    "deletable": false,
    "editable": false,
    "nbgrader": {
     "cell_type": "markdown",
     "checksum": "cc6b36f3cff1a55e74ccbc0b1607c37c",
     "grade": false,
     "grade_id": "q2b",
     "locked": true,
     "schema_version": 2,
     "solution": false
    }
   },
   "source": [
    "#### Question 2b\n",
    "In the cell below, create a variable `y` that contains the birth weights of the babies."
   ]
  },
  {
   "cell_type": "code",
   "execution_count": 34,
   "metadata": {
    "deletable": false,
    "nbgrader": {
     "cell_type": "code",
     "checksum": "34ec76ce6fead098bedde653bcc3c8fe",
     "grade": false,
     "grade_id": "q2b-answer",
     "locked": false,
     "schema_version": 2,
     "solution": true
    }
   },
   "outputs": [],
   "source": [
    "y = babies[['bwt']]\n",
    "# YOUR CODE HERE"
   ]
  },
  {
   "cell_type": "code",
   "execution_count": 35,
   "metadata": {
    "deletable": false,
    "editable": false,
    "nbgrader": {
     "cell_type": "code",
     "checksum": "2a7428732d863417897b6de499e8b116",
     "grade": true,
     "grade_id": "q2b-tests",
     "locked": true,
     "points": 1,
     "schema_version": 2,
     "solution": false
    }
   },
   "outputs": [],
   "source": [
    "assert len(y) == len(X)\n",
    "assert np.isclose(np.mean(y), 119.5, atol=1)"
   ]
  },
  {
   "cell_type": "markdown",
   "metadata": {
    "deletable": false,
    "editable": false,
    "nbgrader": {
     "cell_type": "markdown",
     "checksum": "a86bd81ff76e8a019432cf8d9e6698ed",
     "grade": false,
     "grade_id": "q3",
     "locked": true,
     "schema_version": 2,
     "solution": false
    }
   },
   "source": [
    "### Question 3\n",
    "\n",
    "In the cell below, use sklearn to create a [LinearRegression](http://scikit-learn.org/stable/modules/generated/sklearn.linear_model.LinearRegression.html) object named `model`. \n",
    "\n",
    "Then, fit your model to `X` and `y`. The print statement below will print all the $\\beta$ coefficients of your model (from the equation above) after the model has been fit to your data."
   ]
  },
  {
   "cell_type": "code",
   "execution_count": 36,
   "metadata": {
    "deletable": false,
    "nbgrader": {
     "cell_type": "code",
     "checksum": "9a33aa5e4392ac4ab8eaede49c26416a",
     "grade": false,
     "grade_id": "q3-answer",
     "locked": false,
     "schema_version": 2,
     "solution": true
    },
    "scrolled": true
   },
   "outputs": [
    {
     "name": "stdout",
     "output_type": "stream",
     "text": [
      "\n",
      "intercept: -77.26\n",
      "gestation: 0.44\n",
      "smoke:     -8.35\n",
      "height:    1.10\n",
      "weight:    0.06\n",
      "\n"
     ]
    }
   ],
   "source": [
    "from sklearn.linear_model import LinearRegression as lm\n",
    "\n",
    "model = lm()\n",
    "model.fit(X, y)\n",
    "# YOUR CODE HERE\n",
    "\n",
    "print(\"\"\"\n",
    "intercept: %.2f\n",
    "gestation: %.2f\n",
    "smoke:     %.2f\n",
    "height:    %.2f\n",
    "weight:    %.2f\n",
    "\"\"\" % (tuple([model.intercept_]) + tuple(model.coef_[0])))"
   ]
  },
  {
   "cell_type": "code",
   "execution_count": 41,
   "metadata": {
    "deletable": false,
    "editable": false,
    "nbgrader": {
     "cell_type": "code",
     "checksum": "06cf6681ae1110e25fadc2626a9b05b5",
     "grade": true,
     "grade_id": "q3-tests",
     "locked": true,
     "points": 1,
     "schema_version": 2,
     "solution": false
    }
   },
   "outputs": [],
   "source": [
    "assert np.isclose(model.intercept_, -77.2, atol=1)\n",
    "assert np.isclose(model.coef_[0][1], -8.35, atol=0.1)"
   ]
  },
  {
   "cell_type": "markdown",
   "metadata": {
    "deletable": false,
    "editable": false,
    "nbgrader": {
     "cell_type": "markdown",
     "checksum": "d407fe783b1b0e94478faa55b7c677a3",
     "grade": false,
     "grade_id": "cell-60b51337ca07494c",
     "locked": true,
     "schema_version": 2,
     "solution": false
    }
   },
   "source": [
    "We see that smoking has a large negative coefficient, indicating that smoking has a negative association with birthweight even after controlling for the mother's height and weight. Obviously the estimated coefficient $\\widehat\\beta_{\\texttt{smoke}}\\neq 0$, but we are interested in whether the population regression coefficient $\\beta_{\\texttt{smoke}}^*\\neq 0$, which is to say *whether smoking effects baby-weight* in the population (assuming the linear model). We don't have access to $\\beta_{\\texttt{smoke}}^*$ (it's a theoretical construct, not something we can measure). But we can use a **bootstrap confidence interval** to account for variability in the sample regression coefficient $\\widehat\\beta_{\\texttt{smoke}}$."
   ]
  },
  {
   "cell_type": "markdown",
   "metadata": {
    "deletable": false,
    "editable": false,
    "nbgrader": {
     "cell_type": "markdown",
     "checksum": "c69e707b960b5859059991bc7717212c",
     "grade": false,
     "grade_id": "part-3",
     "locked": true,
     "schema_version": 2,
     "solution": false
    }
   },
   "source": [
    "## Part 3: Bootstrap\n",
    "\n",
    "#### Bootstrap Sampling Distribution of $\\widehat\\beta_\\texttt{smoke}$\n",
    "\n",
    "Here we consider the pairs $(X_i, y_i)$ to be our sample, so we construct the bootstrap resample by sampling with replacement from these pairs:\n",
    "\n",
    "$$\n",
    "(X_i^*, y_i^*) \n",
    "= (X_I, y_I), \\text{ where } I=1,\\dots,n \\text{ is sampled uniformly at random.}\n",
    "$$\n",
    "\n",
    "Run the cell below to define the functions `simple_resample` and `bootstrap`, which will help you in the next question."
   ]
  },
  {
   "cell_type": "code",
   "execution_count": 38,
   "metadata": {
    "deletable": false,
    "editable": false,
    "nbgrader": {
     "cell_type": "code",
     "checksum": "5781e38b1ad6644fc0619c134560fee1",
     "grade": false,
     "grade_id": "bootstrap-funcs",
     "locked": true,
     "schema_version": 2,
     "solution": false
    }
   },
   "outputs": [],
   "source": [
    "def simple_resample(n): \n",
    "    return(np.random.randint(low = 0, high = n, size = n))\n",
    "\n",
    "def bootstrap(boot_pop, statistic, resample = simple_resample, replicates = 10000):\n",
    "    n = len(boot_pop)\n",
    "    resample_estimates = np.array([statistic(boot_pop[resample(n)]) for _ in range(replicates)])\n",
    "    return resample_estimates"
   ]
  },
  {
   "cell_type": "markdown",
   "metadata": {
    "deletable": false,
    "editable": false,
    "nbgrader": {
     "cell_type": "markdown",
     "checksum": "4026c8921e78dc058bc8e81ff6a1943a",
     "grade": false,
     "grade_id": "q4",
     "locked": true,
     "schema_version": 2,
     "solution": false
    }
   },
   "source": [
    "### Question 4\n",
    "\n",
    "Implement the `smoke_coeff` function below. This function will be our statistic, which will be called on several bootstrap resamples of our data.\n",
    "\n",
    "Since we are trying to examine the distribution of possible values for $\\widehat\\beta_\\texttt{smoke}$, the function should:\n",
    "* Fit a model to a new `X` and `y` (created from a bootstrap resample named `babies_array`) provided below\n",
    "* Return the coefficient of the model corresponding to $\\widehat\\beta_\\texttt{smoke}$ (should be the second coefficient of the model)\n",
    "\n",
    "Keep in mind that this cell may take some time to run as it computes the statistic `smoke_coeff` on several thousand bootstrap resamples of the data."
   ]
  },
  {
   "cell_type": "code",
   "execution_count": 44,
   "metadata": {
    "deletable": false,
    "nbgrader": {
     "cell_type": "code",
     "checksum": "54543aa58fee42d305c1225f6fdd6a98",
     "grade": false,
     "grade_id": "q4-answer",
     "locked": false,
     "schema_version": 2,
     "solution": true
    }
   },
   "outputs": [],
   "source": [
    "def smoke_coeff(babies_array):\n",
    "    X = babies_array[:, 1:]\n",
    "    y = babies_array[:, 0]\n",
    "\n",
    "    model = lm()\n",
    "    model.fit(X, y)\n",
    "    beta_smoke = model.coef_[1]\n",
    "    \n",
    "    # YOUR CODE HERE\n",
    "\n",
    "    return beta_smoke\n",
    "\n",
    "babies_array = babies\\\n",
    ".loc[:, [\"bwt\", \"gestation\", \"smoke\", \"height\", \"weight\"]]\\\n",
    ".replace({\"smoke\" : {\"non-smoker\":0, \"smoker\":1}}).values\n",
    "\n",
    "beta_hat_sampling = bootstrap(babies_array, smoke_coeff)"
   ]
  },
  {
   "cell_type": "code",
   "execution_count": 47,
   "metadata": {
    "deletable": false,
    "editable": false,
    "nbgrader": {
     "cell_type": "code",
     "checksum": "762c81972345c7308095b07ffa3851d2",
     "grade": true,
     "grade_id": "q4-tests",
     "locked": true,
     "points": 1,
     "schema_version": 2,
     "solution": false
    }
   },
   "outputs": [],
   "source": [
    "assert np.isclose(np.mean(beta_hat_sampling), -8.345, atol=0.1)\n",
    "assert np.isclose(np.std(beta_hat_sampling), 0.948, atol=0.1)"
   ]
  },
  {
   "cell_type": "markdown",
   "metadata": {
    "deletable": false,
    "editable": false,
    "nbgrader": {
     "cell_type": "markdown",
     "checksum": "ae864569c65eb8e1203d201eacc73cf0",
     "grade": false,
     "grade_id": "cell-ae0035a24c5b9fd6",
     "locked": true,
     "schema_version": 2,
     "solution": false
    }
   },
   "source": [
    "Run the cell below to plot the bootstrap sampling distribution of all of the $\\widehat\\beta_\\texttt{smoke}$ values."
   ]
  },
  {
   "cell_type": "code",
   "execution_count": 48,
   "metadata": {
    "deletable": false,
    "editable": false,
    "nbgrader": {
     "cell_type": "code",
     "checksum": "b5852e4b523824c3cb2f235687bd32fe",
     "grade": false,
     "grade_id": "cell-d3e0d61a25f6dfa4",
     "locked": true,
     "schema_version": 2,
     "solution": false
    }
   },
   "outputs": [
    {
     "data": {
      "image/png": "[encoded data removed]",
      "text/plain": [
       "<matplotlib.figure.Figure at 0x7fe19e3216a0>"
      ]
     },
     "metadata": {},
     "output_type": "display_data"
    }
   ],
   "source": [
    "plt.figure(figsize = (7, 5))\n",
    "plt.hist(beta_hat_sampling, bins = 30)\n",
    "plt.xlabel(\"Bootstrap Sampling Distribution of $\\\\widehat{\\\\beta}_{smoke}$ (Nonparametric)\")\n",
    "plt.yticks([])\n",
    "plt.show()"
   ]
  },
  {
   "cell_type": "markdown",
   "metadata": {
    "deletable": false,
    "editable": false,
    "nbgrader": {
     "cell_type": "markdown",
     "checksum": "cb18a078c05d04ee2a4167e161bd389c",
     "grade": false,
     "grade_id": "q5",
     "locked": true,
     "schema_version": 2,
     "solution": false
    }
   },
   "source": [
    "### Question 5\n",
    "\n",
    "Use the [percentile](https://docs.scipy.org/doc/numpy-dev/reference/generated/numpy.percentile.html) method to construct a $95\\%$ confidence interval for $\\beta_{\\texttt{smoke}}^*$ based on the bootstrap sampling distribution. If the confidence interval **does not include 0**, we reject the null hypothesis $H_0 : \\beta_{\\texttt{smoke}}^* = 0$.\n",
    "\n"
   ]
  },
  {
   "cell_type": "code",
   "execution_count": 52,
   "metadata": {
    "deletable": false,
    "nbgrader": {
     "cell_type": "code",
     "checksum": "990da799719b7390b1a2ba90b88cb2c6",
     "grade": false,
     "grade_id": "q5-answer",
     "locked": false,
     "schema_version": 2,
     "solution": true
    }
   },
   "outputs": [
    {
     "data": {
      "text/plain": [
       "(-10.222575678288939, -6.4715713811838356)"
      ]
     },
     "execution_count": 52,
     "metadata": {},
     "output_type": "execute_result"
    }
   ],
   "source": [
    "left_confidence_interval_endpoint = np.percentile(beta_hat_sampling, 2.5)\n",
    "right_confidence_interval_endpoint = np.percentile(beta_hat_sampling, 97.5)\n",
    "# YOUR CODE HERE\n",
    "left_confidence_interval_endpoint, right_confidence_interval_endpoint"
   ]
  },
  {
   "cell_type": "code",
   "execution_count": 53,
   "metadata": {
    "deletable": false,
    "editable": false,
    "nbgrader": {
     "cell_type": "code",
     "checksum": "c13b63590bc7fd31c43b7f7038576c10",
     "grade": true,
     "grade_id": "q5-tests",
     "locked": true,
     "points": 1,
     "schema_version": 2,
     "solution": false
    }
   },
   "outputs": [],
   "source": [
    "assert np.isclose(left_confidence_interval_endpoint, -10.20, atol=0.1)\n",
    "assert np.isclose(right_confidence_interval_endpoint, -6.46, atol=0.1)"
   ]
  },
  {
   "cell_type": "markdown",
   "metadata": {
    "deletable": false,
    "editable": false,
    "nbgrader": {
     "cell_type": "markdown",
     "checksum": "2ae1e8b8a0ef4b636e0b32653f033c64",
     "grade": false,
     "grade_id": "end",
     "locked": true,
     "schema_version": 2,
     "solution": false
    }
   },
   "source": [
    "---\n",
    "### Submission\n",
    "You have completed the assignment! Please do not forget to submit before 11:59pm. Feel free to read ahead for bonus material concerning the bootstrap and hypothesis testing.\n",
    "\n",
    "---"
   ]
  },
  {
   "cell_type": "markdown",
   "metadata": {},
   "source": [
    "#### Bonus Material: Semiparametric Bootstrap Sampling Distribution of $\\widehat\\beta_\\texttt{smoke}$\n",
    "\n",
    "Now we consider the *residuals* $e_i := y_i - X_i\\widehat\\beta $ to be our sample, so we construct the bootstrap resample by sampling with replacement from these pairs:\n",
    "\n",
    "$$\n",
    "(X_i^*, y_i^*) \n",
    "= (X_i, X_i\\widehat\\beta + e_I), \\text{ where } I=1,\\dots,n \\text{ is sampled uniformly at random.}\n",
    "$$"
   ]
  },
  {
   "cell_type": "code",
   "execution_count": 54,
   "metadata": {},
   "outputs": [],
   "source": [
    "y_hat = model.predict(X)\n",
    "residuals = (y - y_hat).values\n",
    "\n",
    "def smoke_coeff_semi(e, X = X, y_hat = y_hat):\n",
    "    y_new = y_hat + e\n",
    "    \n",
    "    model_new = lm().fit(X, y_new)\n",
    "    return(model_new.coef_[0, 1])\n",
    "\n",
    "\n",
    "beta_hat_sampling_semi = bootstrap(residuals, smoke_coeff_semi)"
   ]
  },
  {
   "cell_type": "code",
   "execution_count": 55,
   "metadata": {},
   "outputs": [
    {
     "data": {
      "image/png": "[encoded data removed]",
      "text/plain": [
       "<matplotlib.figure.Figure at 0x7fe19d77c470>"
      ]
     },
     "metadata": {},
     "output_type": "display_data"
    }
   ],
   "source": [
    "plt.figure(figsize = (7, 5))\n",
    "plt.hist(beta_hat_sampling_semi, bins = 30)\n",
    "plt.xlabel(\"Bootstrap Sampling Distribution of $\\\\widehat{\\\\beta}_{smoke}$ (Semi-parametric)\")\n",
    "plt.yticks([])\n",
    "plt.show()"
   ]
  },
  {
   "cell_type": "markdown",
   "metadata": {},
   "source": [
    "#### Bonus Material: Permutation Test \n",
    "\n",
    "One way to test the hypothesis that smoking \"doesn't matter\" in the model is with a **permutation $F$-test**. First, fit the linear model above (model 1), and then fit a model where we force $\\beta_\\texttt{smoke} = 0$ (model 2). The two models have residual-sum-of-squares $\\text{RSS}_1$ and $\\text{RSS}_2$, respectively. Necessarily $\\text{RSS}_1 \\le \\text{RSS}_2$, since the first model has more free parameters. We can consider the relative improvement of including $\\beta_{\\texttt{smoke}}$ \n",
    "\n",
    "$$\n",
    "F = \\frac{\\text{RSS}_2 - \\text{RSS}_1}{\\text{RSS}_1},\n",
    "$$\n",
    "\n",
    "so a permutation test permutes the $\\texttt{smoke}$ labels and compares the observed $F$ statistic to the permutation distribution."
   ]
  },
  {
   "cell_type": "code",
   "execution_count": 56,
   "metadata": {},
   "outputs": [],
   "source": [
    "from sklearn.metrics import mean_squared_error\n",
    "\n",
    "# RSS2 is same regardless of smoking labels\n",
    "X_sub = babies.loc[:, [\"gestation\", \"height\", \"weight\"]]\n",
    "sub_model = lm().fit(X_sub, y)\n",
    "RSS2 = mean_squared_error(y, sub_model.predict(X_sub))\n",
    "\n",
    "RSS1_obs = mean_squared_error(y, model.predict(X))\n",
    "F_obs = (RSS2 - RSS1_obs) / RSS1_obs\n",
    "\n",
    "n = len(babies_array)\n",
    "F = []\n",
    "for _ in range(10000):\n",
    "    X_perm = babies_array[:, 1:]\n",
    "    X_perm[:, 1] = X_perm[np.random.permutation(n), 1]\n",
    "    \n",
    "    perm_model = lm().fit(X_perm, y)\n",
    "    RSS1 = mean_squared_error(y, perm_model.predict(X_perm))\n",
    "    \n",
    "    F.append((RSS2 - RSS1) / RSS1)\n",
    "\n"
   ]
  },
  {
   "cell_type": "code",
   "execution_count": 57,
   "metadata": {},
   "outputs": [
    {
     "data": {
      "image/png": "[encoded data removed]",
      "text/plain": [
       "<matplotlib.figure.Figure at 0x7fe19dffcf60>"
      ]
     },
     "metadata": {},
     "output_type": "display_data"
    }
   ],
   "source": [
    "plt.hist(F, bins = 50)\n",
    "plt.axvline(x = F_obs, color = 'r', ls = '--')\n",
    "plt.yticks([])\n",
    "plt.xlabel('Permutation Distribution of $F$ Statistic')\n",
    "plt.show()"
   ]
  }
 ],
 "metadata": {
  "kernelspec": {
   "display_name": "Python 3",
   "language": "python",
   "name": "python3"
  },
  "language_info": {
   "codemirror_mode": {
    "name": "ipython",
    "version": 3
   },
   "file_extension": ".py",
   "mimetype": "text/x-python",
   "name": "python",
   "nbconvert_exporter": "python",
   "pygments_lexer": "ipython3",
   "version": "3.6.4"
  }
 },
 "nbformat": 4,
 "nbformat_minor": 2
}

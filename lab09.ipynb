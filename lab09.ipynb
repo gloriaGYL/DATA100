{
 "cells": [
  {
   "cell_type": "markdown",
   "metadata": {},
   "source": [
    "Before you turn this assignment in, make sure everything runs as expected. First, **restart the kernel** (in the menubar, select Kernel$\\rightarrow$Restart) and then **run all cells** (in the menubar, select Cell$\\rightarrow$Run All). Lastly, hit **Validate**.\n",
    "\n",
    "If you worked locally, and then uploaded your work to the hub, make sure to follow these steps:\n",
    "- open your uploaded notebook **on the hub**\n",
    "- hit the validate button right above this cell, from inside the notebook\n",
    "\n",
    "These  steps should solve any issue related to submitting the notebook on the hub.\n",
    "\n",
    "Make sure you fill in any place that says `YOUR CODE HERE` or \"YOUR ANSWER HERE\", as well as your name and collaborators below:"
   ]
  },
  {
   "cell_type": "code",
   "execution_count": 1,
   "metadata": {},
   "outputs": [],
   "source": [
    "NAME = \"Zihan Zhou\"\n",
    "COLLABORATORS = \"\""
   ]
  },
  {
   "cell_type": "markdown",
   "metadata": {},
   "source": [
    "---"
   ]
  },
  {
   "cell_type": "markdown",
   "metadata": {
    "deletable": false,
    "editable": false,
    "nbgrader": {
     "cell_type": "markdown",
     "checksum": "e3bb5f5c5aecc434b8e94b0fd4d57768",
     "grade": false,
     "grade_id": "intro",
     "locked": true,
     "schema_version": 2,
     "solution": false
    }
   },
   "source": [
    "# Lab 9: Use Bootstrap to Estimate Mean and Variance\n",
    "** This assignment is due 03/19/2018 at 11:59pm (graded on accuracy) **\n",
    "\n",
    "## Introduction\n",
    "\n",
    "In this lab, you will examine the bootstrap in greater detail. The goal is to develop a functional approach to bootstrapping any statistic for any sample.\n"
   ]
  },
  {
   "cell_type": "code",
   "execution_count": 2,
   "metadata": {
    "deletable": false,
    "editable": false,
    "nbgrader": {
     "cell_type": "code",
     "checksum": "e96a07cd3ea17af682d7da5226d85b90",
     "grade": false,
     "grade_id": "setup",
     "locked": true,
     "schema_version": 2,
     "solution": false
    }
   },
   "outputs": [],
   "source": [
    "# Run this cell to set up your notebook\n",
    "\n",
    "import seaborn as sns\n",
    "import csv\n",
    "import numpy as np\n",
    "import pandas as pd\n",
    "import matplotlib.pyplot as plt\n",
    "%matplotlib inline\n",
    "sns.set()\n",
    "\n",
    "from IPython.display import display, Latex, Markdown\n"
   ]
  },
  {
   "cell_type": "markdown",
   "metadata": {
    "deletable": false,
    "editable": false,
    "nbgrader": {
     "cell_type": "markdown",
     "checksum": "4575fe5df901e74115b4c6b4c30ad8a7",
     "grade": false,
     "grade_id": "bootstrap_description",
     "locked": true,
     "schema_version": 2,
     "solution": false
    }
   },
   "source": [
    "## The Bootstrap Procedure\n",
    "\n",
    "The bootstrap is a very simple process: \n",
    "* Sample with replacement from the original sample (now the **bootstrap population**). These samples are called **bootstrap samples**. We typically take thousands of bootstrap samples (~10,000 is common).\n",
    "* Calculate the statistic of interest for each bootstrap sample. This statistic is called the **bootstrap statistic**, and the empirical distribution of these bootstrap statistics is an approximation to the **sampling distribution** of the bootstrapped statistic.\n",
    "\n",
    "Take sample mean estimator as an example. Suppose $\\{x_i\\}$ are samples coming from an unknown distribution. We can use sample mean $\\bar{X} = \\frac{1}{n}\\sum_{i=1}^n x_i$ to estimate the the mean of the population. However, if we obtain another sample set $\\{x_i\\}$, we can get very different results. Therefore, computing the sampling distribution (distribution of the sample mean for all possible sample sets) would be very helpful. From such distribution, we can also obtain the bias of this estimator: $E (\\bar{X}) - \\mu$, and the variance of the estimator: $E[E(\\bar{X})-\\bar{X}]^2$.\n",
    "\n",
    "In order to compute the sampling distribution of $\\bar{X}$, we could use directly sampling methods. But that require us to obtain several different sets of samples $\\{x_i\\}$ directly from the population. If we have $m$ sets of **bootstrap samples** and each set contains $n$ subjects (totaling $m*n$ subjects), we can then use $ \\hat{X} = \\frac{1}{m}\\sum_{j=1}^m \\bar{X_j}$ to approximate $E(\\bar{X})$, and $\\frac{1}{m}\\sum_{j=1}^m (\\hat{X} - \\bar{X_j})^2$ to approximate $E[E(\\bar{X})-\\bar{X}]^2$.\n",
    "\n",
    "However, in reality, we can only obtain one set of samples (**bootstrap population**). Therefore we can use bootstrap method to resample (sample with replacement) from the **bootstrap population** to obtain $m$ different **bootstrap samples**, each **bootstrap sample** has the same amount of data as in **bootstrap population**.\n",
    "\n",
    "\n",
    "Your task is to write a generic bootstrap procedure. "
   ]
  },
  {
   "cell_type": "markdown",
   "metadata": {
    "deletable": false,
    "editable": false,
    "nbgrader": {
     "cell_type": "markdown",
     "checksum": "fc1f079315890b73d3ccf35e9b128cd6",
     "grade": false,
     "grade_id": "q1_text1",
     "locked": true,
     "schema_version": 2,
     "solution": false
    }
   },
   "source": [
    "### Question 1\n",
    "In today's lab, let's try to use bootstrap method to estimate the distribution of sample mean and sample standard deviation  of our midterm grades. You will be given a noisy sample of grades from this midterm, which is the **bootstrap population**. You should use **sampling with replacement** to resample from this dataset again and again to obtain **bootstrap samples** and compute the **bootstrap statistic**.\n",
    "\n",
    "First, write your own sampling function. The function `simple_resample` samples with replacement from the integers 0 through *n-1* and returns an array of length *n*\n",
    "with the sampled integers. That is, `simple_resample` produces the indices for\n",
    "a single bootstrap replicate from the bootstrap population.\n",
    "\n",
    "Use the `numpy.random.randint` function to do the random sampling. \n"
   ]
  },
  {
   "cell_type": "code",
   "execution_count": 3,
   "metadata": {
    "deletable": false,
    "nbgrader": {
     "cell_type": "code",
     "checksum": "089161661e9a31e9480ae9b0a8c19d8f",
     "grade": false,
     "grade_id": "q1_code",
     "locked": false,
     "schema_version": 2,
     "solution": true
    },
    "tags": [
     "student"
    ]
   },
   "outputs": [
    {
     "data": {
      "text/plain": [
       "array([8, 4, 5, 2, 9, 6, 0, 1, 6, 3])"
      ]
     },
     "execution_count": 3,
     "metadata": {},
     "output_type": "execute_result"
    }
   ],
   "source": [
    "def simple_resample(n):\n",
    "    \"\"\"\n",
    "    Args:\n",
    "        n: an integer\n",
    "        \n",
    "    Returns:\n",
    "        an array of length n of a random sample with replacement of\n",
    "        the integers 0, 1, ..., n-1\n",
    "    \"\"\"\n",
    "    # YOUR CODE HERE\n",
    "    return(np.random.randint(low=0, high=n, size=n))  \n",
    "\n",
    "simple_resample(10)"
   ]
  },
  {
   "cell_type": "markdown",
   "metadata": {
    "deletable": false,
    "editable": false,
    "nbgrader": {
     "cell_type": "markdown",
     "checksum": "5072e7e6e9338abdf4bfa2d77d89194d",
     "grade": false,
     "grade_id": "q1_text2",
     "locked": true,
     "schema_version": 2,
     "solution": false
    }
   },
   "source": [
    "Try your `simple_resample` function on a few cases to see if the sampling looks right."
   ]
  },
  {
   "cell_type": "code",
   "execution_count": 4,
   "metadata": {
    "deletable": false,
    "editable": false,
    "nbgrader": {
     "cell_type": "code",
     "checksum": "eb6ec00361a9e68198e5d5d611c01a04",
     "grade": true,
     "grade_id": "q1_test",
     "locked": true,
     "points": 1,
     "schema_version": 2,
     "solution": false
    },
    "tags": [
     "test",
     "q01"
    ]
   },
   "outputs": [],
   "source": [
    "# chances are less than 5.8 in 10^20 that this test fails when the function is correct\n",
    "assert (sum((42 in simple_resample(1000)) for _ in range(100000)) in range(63230-1500,63230+1500))\n",
    "assert (len(simple_resample(1000)) == 1000)"
   ]
  },
  {
   "cell_type": "markdown",
   "metadata": {
    "deletable": false,
    "editable": false,
    "nbgrader": {
     "cell_type": "markdown",
     "checksum": "10c591ecfede812358866b170febf11d",
     "grade": false,
     "grade_id": "q2_text1",
     "locked": true,
     "schema_version": 2,
     "solution": false
    }
   },
   "source": [
    "### Question 2\n",
    "\n",
    "Next let's write the function `bootstrap` which returns an array of length `replicates`, each entry being the `statistic` of interest computed on a bootstrap sample from the `boot_pop` (bootstrap population).\n",
    "\n",
    "In our case, the `statistic` could be the `np.mean` and `np.std` function. And the `resample` could be `simple_resample`. Here we leave them as parameters so that we could switch to other statistic and resample functions as well.\n",
    "\n",
    "For each bootstrap sample, you should first use `resample` to obtain samples from the `boot_pop`, then compute the statistic of those samples using the `statistic` method, and put it into your result."
   ]
  },
  {
   "cell_type": "code",
   "execution_count": 5,
   "metadata": {
    "deletable": false,
    "nbgrader": {
     "cell_type": "code",
     "checksum": "5423644879fde2fdda3606c35eef401c",
     "grade": false,
     "grade_id": "q2_code1",
     "locked": false,
     "schema_version": 2,
     "solution": true
    },
    "tags": [
     "student"
    ]
   },
   "outputs": [],
   "source": [
    "def bootstrap(boot_pop, statistic, resample, replicates = 1000):\n",
    "    \"\"\"\n",
    "    Args:\n",
    "        boot_pop: an array of shape n x d.\n",
    "        statistic: a function which takes boot_pop and returns a number.\n",
    "        resample: a function which takes n and returns a random sample from the integers [0, n)\n",
    "        replicates: the number of resamples\n",
    "        \n",
    "    Returns:\n",
    "        an array of length replicates, each entry being the statistic computed on a bootstrap sample of the data.\n",
    "    \"\"\"\n",
    "    # YOUR CODE HERE\n",
    "    result = []\n",
    "    for j in range(replicates):\n",
    "        index = resample(len(boot_pop))\n",
    "        sample = []\n",
    "        for k in index:\n",
    "            sample.append(boot_pop[k])\n",
    "        sample = np.array(sample)\n",
    "        result.append(statistic(sample))\n",
    "    return np.array(result)\n"
   ]
  },
  {
   "cell_type": "code",
   "execution_count": 6,
   "metadata": {
    "deletable": false,
    "editable": false,
    "nbgrader": {
     "cell_type": "code",
     "checksum": "9b8486454b3163a4f24fab7b5d06944d",
     "grade": true,
     "grade_id": "q2_test1",
     "locked": true,
     "points": 1,
     "schema_version": 2,
     "solution": false
    },
    "tags": [
     "test",
     "q02"
    ]
   },
   "outputs": [],
   "source": [
    "assert (len(bootstrap(np.ones(10), np.mean, simple_resample)) == 1000)\n",
    "assert (np.all(bootstrap(np.ones(10), np.mean, simple_resample, replicates = 1000) == np.ones(1000)))\n",
    "# chances are less than 3.9 in 10^22 that this test fails when the function is correct\n",
    "assert (sum(bootstrap(np.array([0,1]), np.median, simple_resample, replicates = 10000) == 0.5) in range(5000-500,5000+500))"
   ]
  },
  {
   "cell_type": "markdown",
   "metadata": {
    "deletable": false,
    "editable": false,
    "nbgrader": {
     "cell_type": "markdown",
     "checksum": "6f1a63e0a411e95964f95a996640a9da",
     "grade": false,
     "grade_id": "q2_text2",
     "locked": true,
     "schema_version": 2,
     "solution": false
    }
   },
   "source": [
    "Now let's use the bootstrap function to compute the distribution of the sample mean for the midterm grade.\n",
    "\n",
    "First, let's load the data."
   ]
  },
  {
   "cell_type": "code",
   "execution_count": 7,
   "metadata": {
    "deletable": false,
    "editable": false,
    "nbgrader": {
     "cell_type": "code",
     "checksum": "9da05139f55af67c1fa4640e8f4b749a",
     "grade": false,
     "grade_id": "q2_setup",
     "locked": true,
     "schema_version": 2,
     "solution": false
    }
   },
   "outputs": [
    {
     "data": {
      "text/html": [
       "<div>\n",
       "<style scoped>\n",
       "    .dataframe tbody tr th:only-of-type {\n",
       "        vertical-align: middle;\n",
       "    }\n",
       "\n",
       "    .dataframe tbody tr th {\n",
       "        vertical-align: top;\n",
       "    }\n",
       "\n",
       "    .dataframe thead th {\n",
       "        text-align: right;\n",
       "    }\n",
       "</style>\n",
       "<table border=\"1\" class=\"dataframe\">\n",
       "  <thead>\n",
       "    <tr style=\"text-align: right;\">\n",
       "      <th></th>\n",
       "      <th>Grade</th>\n",
       "    </tr>\n",
       "  </thead>\n",
       "  <tbody>\n",
       "    <tr>\n",
       "      <th>0</th>\n",
       "      <td>70.652174</td>\n",
       "    </tr>\n",
       "    <tr>\n",
       "      <th>1</th>\n",
       "      <td>85.418495</td>\n",
       "    </tr>\n",
       "    <tr>\n",
       "      <th>2</th>\n",
       "      <td>84.909697</td>\n",
       "    </tr>\n",
       "    <tr>\n",
       "      <th>3</th>\n",
       "      <td>55.759027</td>\n",
       "    </tr>\n",
       "    <tr>\n",
       "      <th>4</th>\n",
       "      <td>75.008190</td>\n",
       "    </tr>\n",
       "  </tbody>\n",
       "</table>\n",
       "</div>"
      ],
      "text/plain": [
       "       Grade\n",
       "0  70.652174\n",
       "1  85.418495\n",
       "2  84.909697\n",
       "3  55.759027\n",
       "4  75.008190"
      ]
     },
     "execution_count": 7,
     "metadata": {},
     "output_type": "execute_result"
    }
   ],
   "source": [
    "data = pd.read_csv(\"grades_sample.csv\")\n",
    "data.head()"
   ]
  },
  {
   "cell_type": "code",
   "execution_count": 8,
   "metadata": {
    "deletable": false,
    "editable": false,
    "nbgrader": {
     "cell_type": "code",
     "checksum": "9d07a998c3a814b60bf593ef7a2d8a82",
     "grade": false,
     "grade_id": "q2_setup2",
     "locked": true,
     "schema_version": 2,
     "solution": false
    }
   },
   "outputs": [
    {
     "data": {
      "text/plain": [
       "<matplotlib.collections.LineCollection at 0x7f1cedc81ef0>"
      ]
     },
     "execution_count": 8,
     "metadata": {},
     "output_type": "execute_result"
    },
    {
     "data": {
      "image/png": "[encoded data removed]",
      "text/plain": [
       "<matplotlib.figure.Figure at 0x7f1cf65ab7b8>"
      ]
     },
     "metadata": {},
     "output_type": "display_data"
    }
   ],
   "source": [
    "sns.distplot(data)\n",
    "plt.vlines(np.mean(data),0,1)"
   ]
  },
  {
   "cell_type": "markdown",
   "metadata": {
    "deletable": false,
    "editable": false,
    "nbgrader": {
     "cell_type": "markdown",
     "checksum": "fafd7ebb711cb0de23223391863d0cf5",
     "grade": false,
     "grade_id": "q2_text3",
     "locked": true,
     "schema_version": 2,
     "solution": false
    }
   },
   "source": [
    "Now use the right parameters to call our `bootstrap` method to obtain the sample mean $\\bar{X}$ for $m$ different bootstrap samples $\\{x_i\\}$. "
   ]
  },
  {
   "cell_type": "code",
   "execution_count": 9,
   "metadata": {
    "deletable": false,
    "nbgrader": {
     "cell_type": "code",
     "checksum": "27f3497ffe848b48966b7680252dd505",
     "grade": false,
     "grade_id": "q2_code2",
     "locked": false,
     "schema_version": 2,
     "solution": true
    }
   },
   "outputs": [
    {
     "data": {
      "text/plain": [
       "array([ 80.33557231,  81.27537758,  80.72957332,  80.45931148,\n",
       "        80.5979897 ,  81.76662476,  81.00727661,  81.66955716,\n",
       "        80.36109865,  80.71428129,  78.99161903,  80.28626346,\n",
       "        81.44842628,  79.69949761,  80.34446943,  80.80793999,\n",
       "        80.848541  ,  81.29183215,  80.83309721,  81.63298992,\n",
       "        80.32326273,  80.58625788,  80.45306661,  81.4995197 ,\n",
       "        81.36326211,  80.50440264,  80.0397261 ,  79.83465986,\n",
       "        80.39721992,  81.20651875,  79.79608175,  81.52316332,\n",
       "        80.15534947,  80.06312986,  80.22543109,  81.19705988,\n",
       "        79.88968307,  80.24005127,  80.65478983,  79.91301851,\n",
       "        80.36073929,  79.36807356,  80.81483116,  81.13444692,\n",
       "        80.71594597,  79.53059675,  81.06381   ,  80.51712576,\n",
       "        80.08349238,  80.59107652,  79.73518528,  80.11227042,\n",
       "        80.4795513 ,  80.09732669,  79.28695473,  81.38289229,\n",
       "        79.12225942,  80.6103797 ,  80.58735406,  80.4278387 ,\n",
       "        80.41660252,  80.97619009,  80.41612108,  80.8711533 ,\n",
       "        78.91866433,  81.36626696,  79.90714013,  80.87730488,\n",
       "        80.70620011,  81.61217363,  80.93995143,  80.37662439,\n",
       "        79.93590159,  80.76213579,  79.90063924,  80.17599071,\n",
       "        80.19614504,  79.02336987,  80.99232894,  80.22863463,\n",
       "        81.06279019,  80.14041146,  80.86311879,  81.05822549,\n",
       "        79.5003915 ,  81.00233103,  80.67502536,  80.29689865,\n",
       "        80.7500321 ,  81.20985465,  80.92761348,  79.93326481,\n",
       "        80.37363808,  81.03337946,  80.4140615 ,  80.52630369,\n",
       "        80.63703294,  80.81157933,  81.04368644,  79.52407032,\n",
       "        80.80869918,  79.79823065,  80.43175333,  81.59650267,\n",
       "        79.81984658,  81.06597885,  80.50768349,  79.14152215,\n",
       "        81.63480654,  79.91023867,  80.58608903,  80.57215097,\n",
       "        80.59483357,  80.18583525,  80.22137094,  80.23194537,\n",
       "        79.7502895 ,  80.35973685,  80.12837581,  80.31535217,\n",
       "        80.52404067,  80.97270907,  80.89078257,  80.81838317,\n",
       "        79.99893927,  80.38646244,  80.90673449,  81.09822541,\n",
       "        81.76978618,  79.74475086,  79.48949714,  80.44587068,\n",
       "        81.32055367,  79.71243057,  80.92837587,  80.38523371,\n",
       "        79.90194563,  79.58216152,  80.73811384,  80.3505481 ,\n",
       "        79.70504314,  78.60089835,  80.82944198,  79.35646213,\n",
       "        80.57839559,  78.66421344,  81.22878555,  80.93670226,\n",
       "        80.74470379,  79.83599459,  79.81027936,  80.28836665,\n",
       "        79.94048263,  81.02073732,  80.18385375,  80.11559126,\n",
       "        81.54325624,  79.65654863,  81.19765545,  81.04079146,\n",
       "        79.3325921 ,  79.99772551,  80.04142648,  81.35269318,\n",
       "        80.91245317,  79.75461039,  79.72699155,  81.33265675,\n",
       "        80.6930141 ,  81.2191575 ,  80.18604183,  79.64251823,\n",
       "        80.32735196,  80.10960974,  80.06544036,  80.21247379,\n",
       "        81.28984523,  80.42638401,  80.57841514,  80.75089344,\n",
       "        80.46109094,  80.22807425,  80.10729295,  80.86209274,\n",
       "        81.23553733,  80.50626661,  80.84834079,  79.80041582,\n",
       "        80.96785425,  79.06045585,  80.73293742,  79.6823561 ,\n",
       "        80.76517816,  80.77972209,  79.77143354,  80.29742517,\n",
       "        79.23793434,  79.77149193,  80.0821651 ,  79.79417274,\n",
       "        81.07145039,  80.14568644,  81.33824536,  79.27053281,\n",
       "        81.01385741,  79.81537537,  79.66199647,  80.40129355,\n",
       "        81.17644778,  79.58160773,  80.24028072,  80.88259145,\n",
       "        80.7670538 ,  80.35172551,  80.48604282,  80.88347883,\n",
       "        79.42066822,  80.95566163,  80.81456212,  81.10285028,\n",
       "        80.27264942,  80.90352145,  80.60340829,  80.39635565,\n",
       "        81.02001999,  79.92725325,  81.80115636,  81.56015128,\n",
       "        80.47219457,  79.52369576,  80.05410786,  80.24539248,\n",
       "        80.31182069,  80.3708247 ,  80.54767659,  81.15043781,\n",
       "        80.84092029,  80.03450019,  79.57544004,  79.86125541,\n",
       "        81.07144857,  79.92011141,  79.49522763,  80.65761335,\n",
       "        80.71131828,  81.03942022,  79.65092905,  80.01601975,\n",
       "        80.56712052,  80.79773841,  80.71642965,  80.61815275,\n",
       "        80.79968108,  79.0394013 ,  81.67106395,  79.49557204,\n",
       "        80.44831903,  79.59905153,  80.66169498,  79.92410752,\n",
       "        80.49547922,  80.01951988,  81.00541823,  79.22643233,\n",
       "        81.17306005,  79.91885007,  81.41676291,  81.49372358,\n",
       "        80.04995937,  80.05286993,  79.87030931,  80.59473073,\n",
       "        79.68146816,  79.6027488 ,  80.45610921,  80.21699047,\n",
       "        79.78154744,  80.35020623,  79.64991365,  79.91029837,\n",
       "        80.64661183,  79.24036934,  80.36870852,  79.78653896,\n",
       "        80.965936  ,  79.32777524,  80.86546947,  81.49439832,\n",
       "        81.16889606,  80.25662999,  80.32790284,  80.14901876,\n",
       "        80.61657305,  81.18437989,  79.59576091,  80.27117736,\n",
       "        79.97648054,  80.32351205,  79.53719265,  81.42708395,\n",
       "        80.20699018,  80.92365163,  79.09574135,  80.66361495,\n",
       "        80.11548197,  80.85221827,  81.3307245 ,  80.47830056,\n",
       "        81.69398582,  81.09933988,  80.18561591,  80.65699345,\n",
       "        80.31633782,  81.14217709,  80.41094824,  80.18307312,\n",
       "        80.04552092,  80.77046635,  79.80956958,  79.90808753,\n",
       "        80.9556025 ,  80.05492254,  79.70815236,  81.04863925,\n",
       "        80.66513876,  80.69492157,  80.91029188,  80.25215953,\n",
       "        80.24512131,  81.14068601,  80.70258007,  80.06091376,\n",
       "        81.42082921,  80.46749917,  80.23314974,  80.43013194,\n",
       "        80.31629556,  79.87168785,  79.97236873,  80.19273849,\n",
       "        80.10174847,  81.13328779,  80.20390255,  80.80893837,\n",
       "        80.55373981,  79.5275345 ,  79.79031456,  80.48965042,\n",
       "        80.10578515,  81.07714854,  80.42918511,  81.08150453,\n",
       "        80.92606314,  80.70421222,  81.05694258,  81.00478943,\n",
       "        79.76161015,  80.70090333,  80.31496315,  79.5405541 ,\n",
       "        79.92629889,  80.94537293,  79.85338741,  80.24824372,\n",
       "        80.4972054 ,  81.40573581,  81.17668446,  79.85094539,\n",
       "        79.9598895 ,  80.07716425,  80.72777048,  80.71608668,\n",
       "        80.21790205,  80.31662507,  80.12987313,  79.665395  ,\n",
       "        80.56830949,  80.19596606,  80.61839419,  80.53925305,\n",
       "        79.90627521,  80.64189563,  79.47191581,  79.74191447,\n",
       "        81.09583452,  80.98639327,  79.46520669,  81.82191939,\n",
       "        81.93368054,  80.36783026,  80.36481516,  80.12349734,\n",
       "        81.28703639,  80.80740829,  79.5884794 ,  80.36395899,\n",
       "        81.16613552,  81.62761315,  80.86491034,  80.40049144,\n",
       "        80.24083396,  80.22855171,  80.87041896,  79.82564151,\n",
       "        80.68460878,  80.07303845,  80.49232357,  80.59871701,\n",
       "        80.00466748,  80.07028221,  79.54178964,  81.04200084,\n",
       "        81.06049862,  80.96563722,  80.2746647 ,  80.43155922,\n",
       "        80.20484432,  80.9656189 ,  79.82484614,  79.75436936,\n",
       "        80.01701207,  80.93878395,  80.77669088,  81.41738207,\n",
       "        79.87543284,  79.68397753,  81.13289017,  80.66827774,\n",
       "        80.01472501,  80.66503325,  80.01715057,  80.70407935,\n",
       "        80.14836123,  80.5951373 ,  80.78239501,  80.36731632,\n",
       "        80.12881747,  80.75991003,  81.08025104,  81.67274724,\n",
       "        81.06608567,  80.22151116,  80.52532964,  79.68511665,\n",
       "        79.9590415 ,  79.8126798 ,  80.37003874,  80.29856408,\n",
       "        80.42408746,  79.85955765,  81.56182562,  79.02535192,\n",
       "        78.81123168,  81.25911966,  80.82632834,  79.95329395,\n",
       "        80.25910914,  80.34715492,  80.47239569,  81.05341861,\n",
       "        80.38762054,  80.43887172,  79.92436233,  79.63649469,\n",
       "        81.94371722,  80.40606669,  80.70772277,  80.35759962,\n",
       "        79.71598506,  79.60042682,  80.66187512,  80.41535216,\n",
       "        80.12027942,  79.95147554,  80.53781359,  80.33849197,\n",
       "        80.53399691,  81.82810921,  80.77825605,  80.61908145,\n",
       "        80.05202547,  81.0894734 ,  79.74569553,  81.06405908,\n",
       "        81.50197566,  79.9173667 ,  80.06609079,  80.35966597,\n",
       "        80.86718544,  81.32886562,  79.96309464,  81.1766373 ,\n",
       "        81.32683037,  80.27201147,  79.94163653,  80.93443734,\n",
       "        80.84486515,  81.34672225,  80.79927697,  82.02475295,\n",
       "        80.70799746,  80.58171464,  79.83000703,  79.81664824,\n",
       "        80.49693497,  80.59479403,  80.43907336,  79.13213281,\n",
       "        80.75175358,  79.65406906,  80.951823  ,  81.05170619,\n",
       "        80.01299078,  79.9721638 ,  80.25689101,  80.17458203,\n",
       "        80.99768332,  79.89335619,  81.327791  ,  81.05086056,\n",
       "        80.68308501,  79.89086371,  79.71515953,  79.99888278,\n",
       "        81.76963936,  80.00714297,  80.63072524,  80.96709235,\n",
       "        80.02386675,  80.85011878,  80.10706122,  79.75303063,\n",
       "        80.72512169,  80.96922248,  81.05000794,  79.75189105,\n",
       "        79.90232223,  80.18109369,  81.44659085,  80.49499849,\n",
       "        81.31100762,  80.36595283,  79.74436277,  79.75418613,\n",
       "        80.49010867,  79.7806644 ,  79.46885445,  79.93966262,\n",
       "        81.20862863,  79.30569202,  79.75652481,  79.78676354,\n",
       "        80.69122949,  80.67565839,  79.98363179,  80.67739298,\n",
       "        80.51847469,  80.22928087,  80.93449288,  79.33966867,\n",
       "        80.9067591 ,  79.61802616,  79.76736215,  80.46984985,\n",
       "        81.35777674,  79.55726607,  80.9990561 ,  79.98716415,\n",
       "        79.74468976,  81.61015726,  79.76287553,  80.22982579,\n",
       "        81.08761242,  79.80162691,  80.08483774,  80.74629161,\n",
       "        80.67120519,  81.05604402,  80.17583794,  80.75985442,\n",
       "        81.13943219,  80.73170521,  81.10947946,  79.85858967,\n",
       "        80.4269276 ,  80.89597952,  80.84052823,  80.51670849,\n",
       "        79.39469443,  80.35186597,  80.17469273,  80.5010877 ,\n",
       "        81.0184355 ,  79.77794451,  80.28928182,  79.54611507,\n",
       "        80.42338872,  80.49583669,  80.23460357,  79.65361637,\n",
       "        80.36884619,  81.07141238,  80.03300421,  81.23843125,\n",
       "        81.27718439,  80.32343375,  81.42715158,  80.9801297 ,\n",
       "        80.06926213,  80.96502352,  80.53795633,  80.36032128,\n",
       "        80.40889179,  80.93606503,  80.07363979,  80.9702463 ,\n",
       "        81.77779505,  79.91760943,  81.2171073 ,  79.98754819,\n",
       "        80.06788338,  80.69136482,  79.43611829,  81.11105012,\n",
       "        80.60793506,  80.33901711,  81.10839289,  80.78012021,\n",
       "        80.5110582 ,  79.45302701,  79.83378129,  79.83535587,\n",
       "        80.75078227,  80.9119254 ,  79.98043087,  79.92949488,\n",
       "        80.08143242,  80.6383108 ,  80.91533653,  82.18013274,\n",
       "        80.8856183 ,  79.62091204,  80.51783756,  81.3969454 ,\n",
       "        81.44380965,  81.89338047,  80.91514453,  81.38107178,\n",
       "        79.83701414,  80.00641943,  80.88185762,  79.79161111,\n",
       "        80.70451267,  79.56070208,  81.01190102,  80.18305222,\n",
       "        81.07403109,  79.40540914,  80.78548501,  80.58583655,\n",
       "        81.30613383,  80.47980346,  80.91543869,  80.11049669,\n",
       "        79.07471914,  79.8920138 ,  79.77911918,  80.99720613,\n",
       "        79.83149369,  80.21206317,  80.75790419,  79.97620028,\n",
       "        79.27742477,  80.77831425,  80.03058903,  81.85712157,\n",
       "        79.52399232,  80.9989992 ,  80.7066246 ,  80.77831186,\n",
       "        80.02961828,  80.57789194,  81.0640644 ,  80.20123393,\n",
       "        81.64817718,  79.94825596,  80.79449588,  81.09374034,\n",
       "        80.71816644,  80.25525054,  81.23169159,  81.6681312 ,\n",
       "        80.77388965,  80.39788883,  79.92148568,  80.24534595,\n",
       "        80.60284818,  80.31029952,  80.34015636,  80.0169331 ,\n",
       "        81.61462866,  80.5081247 ,  79.74121222,  80.25173864,\n",
       "        80.16418123,  80.79024565,  81.0368473 ,  80.16212791,\n",
       "        81.10017597,  80.6950509 ,  79.63887004,  80.09502118,\n",
       "        81.03167075,  81.16794786,  81.36452947,  81.28760329,\n",
       "        80.29729308,  80.47200781,  80.25603968,  80.38031258,\n",
       "        81.2196646 ,  80.04561186,  80.22450257,  81.28217021,\n",
       "        80.71940214,  80.50598295,  81.26774737,  80.76617972,\n",
       "        80.19634425,  80.27583094,  80.30550728,  80.94437188,\n",
       "        80.20880203,  78.77143141,  80.71888372,  80.56086626,\n",
       "        80.17541445,  80.81752525,  80.85431331,  80.19995294,\n",
       "        79.98938614,  79.88362147,  80.06616292,  79.71853431,\n",
       "        81.37414441,  81.41185538,  79.99357635,  80.61160111,\n",
       "        79.88995716,  80.75447529,  80.60356612,  80.76090236,\n",
       "        81.08513994,  80.59576897,  80.7108451 ,  79.49232635,\n",
       "        81.62325827,  81.2892135 ,  80.33457722,  80.9325436 ,\n",
       "        80.18845694,  80.94246182,  80.29171789,  80.01569787,\n",
       "        79.79374281,  80.16813545,  79.66227543,  80.55815455,\n",
       "        80.28571093,  80.26665474,  80.32513355,  80.11553911,\n",
       "        80.09001517,  80.69376252,  80.41182955,  79.95283396,\n",
       "        81.27476641,  80.46176453,  79.59163683,  78.9972831 ,\n",
       "        78.98250197,  81.73338215,  81.01409348,  80.46267352,\n",
       "        81.26624958,  80.408707  ,  79.07322368,  81.64436097,\n",
       "        80.70672169,  80.53384656,  80.24461011,  81.05883028,\n",
       "        79.90301134,  78.86101058,  79.40967769,  81.07505389,\n",
       "        80.20797998,  80.23585192,  80.83682281,  79.30993764,\n",
       "        80.85259161,  80.11799037,  79.30200173,  79.93212484,\n",
       "        80.65857195,  79.86533572,  79.5867976 ,  81.22888144,\n",
       "        81.37414044,  79.60255215,  80.10545393,  80.46656329,\n",
       "        79.96109205,  79.78995834,  80.76278248,  79.81941334,\n",
       "        80.82930707,  79.8829715 ,  80.1246361 ,  80.5080054 ,\n",
       "        80.92980889,  80.19065333,  80.77077832,  79.96393841,\n",
       "        80.44069636,  80.82037779,  80.17721452,  80.74635984,\n",
       "        79.6037216 ,  81.47396353,  79.8565164 ,  80.87804206,\n",
       "        79.67653244,  80.21671471,  80.44342188,  80.00779355,\n",
       "        79.5731747 ,  79.76065785,  80.91693103,  80.37874726,\n",
       "        80.1435634 ,  80.36862878,  80.70368439,  80.59769548,\n",
       "        80.1690067 ,  80.91710256,  81.23659363,  79.75909788,\n",
       "        80.10351791,  81.23182229,  80.90143349,  80.78077654,\n",
       "        80.17012303,  81.3282044 ,  79.87208705,  81.3719927 ,\n",
       "        79.78521117,  81.16557933,  81.36521278,  80.52087558,\n",
       "        80.44914647,  80.91363175,  80.88963542,  81.22790564,\n",
       "        81.15108362,  79.98272781,  81.20483861,  79.92791553,\n",
       "        80.77918891,  80.42610778,  81.36906377,  80.66576998,\n",
       "        80.23156462,  80.39333148,  81.57315127,  81.31606403,\n",
       "        80.94292443,  80.49646313,  79.93618834,  81.83917864,\n",
       "        80.13411624,  79.752743  ,  79.23353514,  80.30288035,\n",
       "        80.55216623,  80.31605978,  80.20625301,  79.91843049,\n",
       "        80.78585061,  80.37900138,  80.69690152,  80.34680625,\n",
       "        80.39397518,  81.0153363 ,  80.13343707,  80.03435976,\n",
       "        80.22949755,  81.70518524,  81.26030007,  81.15665694,\n",
       "        80.43311651,  80.57964476,  80.47560638,  80.42704571,\n",
       "        79.06860504,  80.84104322,  79.7346572 ,  79.4406309 ,\n",
       "        80.97058009,  80.57239843,  80.54195997,  80.79646868,\n",
       "        79.51111465,  81.15761151,  79.47896673,  79.90391619,\n",
       "        80.89866309,  80.47402593,  80.38735229,  80.77659349,\n",
       "        80.518625  ,  81.02913811,  81.19697529,  80.79022428,\n",
       "        80.20745468,  80.52119289,  80.15756466,  80.70167409,\n",
       "        79.72739422,  81.41092486,  81.13015144,  80.40915093,\n",
       "        80.73978577,  80.33818344,  80.83463066,  80.77682787,\n",
       "        80.37611222,  80.65723908,  81.52228963,  80.06695545,\n",
       "        79.41452197,  80.96140705,  79.58963161,  80.59749543,\n",
       "        81.11763933,  80.81059128,  80.64327941,  79.11294885,\n",
       "        80.22037735,  80.23982162,  80.94294425,  79.20944698,\n",
       "        80.33138539,  80.64800291,  81.10380181,  79.87944362,\n",
       "        79.75044214,  80.09914471,  81.89585507,  79.89696152,\n",
       "        79.97637311,  79.92996206,  80.03433165,  80.58813013,\n",
       "        81.61619351,  80.56069082,  81.77082773,  80.80447969,\n",
       "        80.00448852,  78.93822055,  79.63635474,  79.86884039,\n",
       "        81.26899228,  81.31563219,  79.3315694 ,  80.98916561,\n",
       "        80.55464607,  79.64153284,  80.23780341,  79.35567508,\n",
       "        80.79224019,  80.26019562,  80.40671654,  80.29662887,\n",
       "        80.61627576,  80.41307518,  79.81759625,  80.10292511,\n",
       "        80.60794832,  81.03228577,  80.65256852,  80.84842149,\n",
       "        80.26205548,  81.08405236,  80.21861805,  79.76459171,\n",
       "        81.26063749,  80.03470216,  79.66009148,  80.49760437])"
      ]
     },
     "execution_count": 9,
     "metadata": {},
     "output_type": "execute_result"
    }
   ],
   "source": [
    "m = 1000  # the number of resamples \n",
    "boot_pop = np.array(data[\"Grade\"])\n",
    "\n",
    "boot_sample_means = bootstrap(boot_pop, np.mean, simple_resample, replicates=m)\n",
    "\n",
    "# YOUR CODE HERE\n",
    "boot_sample_means"
   ]
  },
  {
   "cell_type": "code",
   "execution_count": 10,
   "metadata": {
    "deletable": false,
    "editable": false,
    "nbgrader": {
     "cell_type": "code",
     "checksum": "aa16c2cf08f8bbfb2aaddc5bcbc4d720",
     "grade": false,
     "grade_id": "q2_plot",
     "locked": true,
     "schema_version": 2,
     "solution": false
    }
   },
   "outputs": [
    {
     "data": {
      "text/plain": [
       "Text(0,0.5,'Frequency')"
      ]
     },
     "execution_count": 10,
     "metadata": {},
     "output_type": "execute_result"
    },
    {
     "data": {
      "image/png": "[encoded data removed]",
      "text/plain": [
       "<matplotlib.figure.Figure at 0x7f1cedc59fd0>"
      ]
     },
     "metadata": {},
     "output_type": "display_data"
    }
   ],
   "source": [
    "sns.distplot(boot_sample_means)\n",
    "plt.xlabel(r\"$\\bar{X}$\")\n",
    "plt.ylabel(\"Frequency\")"
   ]
  },
  {
   "cell_type": "code",
   "execution_count": 11,
   "metadata": {
    "deletable": false,
    "editable": false,
    "nbgrader": {
     "cell_type": "code",
     "checksum": "b104bea554b9f3f0c3441f12fdb5f5d1",
     "grade": true,
     "grade_id": "q2_test2",
     "locked": true,
     "points": 1,
     "schema_version": 2,
     "solution": false
    }
   },
   "outputs": [],
   "source": [
    "boot_mean_mean = np.mean(boot_sample_means)\n",
    "boot_var_mean = np.var(boot_sample_means)\n",
    "assert len(boot_sample_means) == m\n",
    "assert 80 < boot_mean_mean < 81\n",
    "assert 0.3 < boot_var_mean < 0.5"
   ]
  },
  {
   "cell_type": "markdown",
   "metadata": {
    "deletable": false,
    "editable": false,
    "nbgrader": {
     "cell_type": "markdown",
     "checksum": "926dd41a68a8a83a355d5fc65663637f",
     "grade": false,
     "grade_id": "q2_text4",
     "locked": true,
     "schema_version": 2,
     "solution": false
    }
   },
   "source": [
    "Now use the right parameters to call our `bootstrap` method to obtain the standard deviation $\\sqrt{\\frac{1}{n}\\sum_{i=1}^{n} (x_i-\\bar{X})^2}$ for $m$ different bootstrap samples $\\{x_i\\}$. You should use `np.std`"
   ]
  },
  {
   "cell_type": "code",
   "execution_count": 12,
   "metadata": {
    "deletable": false,
    "nbgrader": {
     "cell_type": "code",
     "checksum": "57e597aeded682851885c8d976c5c7fa",
     "grade": false,
     "grade_id": "q2_code3",
     "locked": false,
     "schema_version": 2,
     "solution": true
    }
   },
   "outputs": [
    {
     "data": {
      "text/plain": [
       "array([  8.45307997,   8.78979146,   8.21588365,   8.706112  ,\n",
       "         8.8959985 ,   9.32693197,   8.51575768,   8.33540854,\n",
       "         9.08477455,   8.53286095,   8.94947593,   9.24865191,\n",
       "         8.59981431,   8.18467985,   8.39010575,   8.8749619 ,\n",
       "         8.48572815,   9.22243438,   9.16937361,   7.76638012,\n",
       "         8.85034286,   8.72130824,   7.88592412,   8.63485621,\n",
       "         8.83572846,   8.00062869,   8.75270047,   7.61174099,\n",
       "         8.93778937,   9.14535316,   9.02635225,   8.55018159,\n",
       "         9.1403355 ,   7.91777223,   8.78218195,   7.94551819,\n",
       "         9.49385364,   9.0264296 ,   8.52671076,   9.2924568 ,\n",
       "         9.24760254,   8.6973138 ,   9.03387361,   9.44930228,\n",
       "         8.46219262,   8.53434693,   7.83778577,   8.93491643,\n",
       "         8.87329319,   8.77470118,   8.8271474 ,   8.59299743,\n",
       "         8.79138028,   8.31242539,   8.19459418,   8.04855065,\n",
       "         7.8823316 ,   8.35889905,   9.63017402,   9.81889733,\n",
       "         8.4869306 ,   7.78861866,   8.3497176 ,   7.82897665,\n",
       "         8.78409787,   9.07889434,   8.61853043,   8.79827966,\n",
       "         8.84810908,   9.88898356,   8.49753887,   9.03780519,\n",
       "         8.99374192,   9.40964914,   8.66428296,   8.70791756,\n",
       "         7.93924985,   8.73337085,   8.80235366,   8.09711234,\n",
       "         8.58419805,   9.4818548 ,   9.18606455,   9.38573443,\n",
       "         9.55261333,   8.57578228,   8.05249601,   8.70852054,\n",
       "         8.11728879,   8.64984552,   8.56009799,   8.44716957,\n",
       "         8.51108836,   8.40597516,   8.88667197,   8.39679812,\n",
       "         9.52952872,   8.41183271,   8.75174991,   8.26148625,\n",
       "         9.0025974 ,   8.72693452,   9.03584138,   7.19388172,\n",
       "         9.39905781,   9.00942159,   8.73805248,   9.91953229,\n",
       "         8.47348194,   8.31508867,   9.46918519,   8.36994517,\n",
       "         8.90755566,   8.12811693,   8.71531402,   9.29849026,\n",
       "         9.53330426,   8.71446974,   8.45604322,   9.24356017,\n",
       "         9.1821593 ,   8.6182645 ,   7.98810476,   8.45838004,\n",
       "         8.67597151,   8.9410413 ,   8.59521897,   8.41895458,\n",
       "         8.94628837,   8.26495472,   8.71406085,   8.89949106,\n",
       "         9.03362912,   8.95564269,   8.7380803 ,   8.36112785,\n",
       "         9.29418319,   9.01274802,   8.25651577,   8.30244659,\n",
       "         8.52543672,   8.54662886,   8.79463768,   8.0810736 ,\n",
       "         7.96642019,   8.69002401,   8.32334837,   8.36058034,\n",
       "         8.27439849,   8.70477391,   8.86696447,   8.5768373 ,\n",
       "         8.29250794,   9.13665678,   8.97467362,   8.93161884,\n",
       "         8.11453528,   8.87964745,   7.72218306,   8.85152274,\n",
       "         8.5477329 ,   8.57855074,   8.8566659 ,   8.1154142 ,\n",
       "         8.94961395,   8.67081585,   8.55035777,   9.46718338,\n",
       "         8.92364377,   9.53903851,   7.63878001,   8.1575886 ,\n",
       "         8.60264286,   7.89566422,   8.05944989,   9.40141121,\n",
       "         9.07916023,   8.08205783,   9.75593477,   8.46359916,\n",
       "         8.68507978,   8.55014156,   7.90403621,   9.14560857,\n",
       "         8.81233316,   8.6609314 ,   9.02326738,   7.81713132,\n",
       "         7.38918698,   8.38393929,   9.1175591 ,   8.845648  ,\n",
       "         8.43998645,   8.72200702,   9.27152832,   8.58035501,\n",
       "         8.49611187,   9.49600304,   8.59233071,   8.47026305,\n",
       "         8.50718025,   8.54146447,   8.41743527,   8.47338183,\n",
       "         9.40546664,   7.9140663 ,   9.42388787,   8.10032026,\n",
       "         8.62715573,   7.99461024,   8.49540678,   8.77736115,\n",
       "         9.18663073,   8.9217935 ,   8.95910259,   8.47507767,\n",
       "         8.55055851,   8.65286594,   9.04526834,   8.3273459 ,\n",
       "         9.52058471,   9.05050743,   9.09814603,   8.38455963,\n",
       "         9.20731821,   9.06700487,   9.20522731,   8.97648568,\n",
       "         8.58009028,   8.73232092,   9.76110845,   8.93064806,\n",
       "         8.99547595,   8.02805098,   8.5609552 ,   8.6849006 ,\n",
       "         8.99737698,   8.70283443,   7.3497397 ,   8.82939534,\n",
       "         8.37503898,   8.82660531,   9.52142129,   9.6186781 ,\n",
       "         8.38754802,   8.48082041,   8.18120686,   8.76913935,\n",
       "         8.9287417 ,   7.7065731 ,   8.2457319 ,   7.66496693,\n",
       "         7.98613705,   9.42352913,   8.81477549,   9.1028471 ,\n",
       "         9.01464315,   7.26552752,   9.4579462 ,   8.2054071 ,\n",
       "         8.82251097,   8.65398489,   8.57579921,   8.6248879 ,\n",
       "         8.90205863,   8.64491407,   8.59300581,   7.52048164,\n",
       "         8.16163104,   7.00296264,   8.04385872,   9.0735306 ,\n",
       "         9.22988353,   8.84578523,   8.69593063,   8.90736243,\n",
       "         8.27737877,   8.37274911,   8.429561  ,   8.98008773,\n",
       "         7.79315239,   8.56534996,   9.14800643,   8.34811348,\n",
       "         9.88033785,   8.53661706,   8.05162456,   8.4051896 ,\n",
       "         8.63236299,   8.78518616,   9.14319767,   8.99220287,\n",
       "         9.41880465,   8.40118705,   8.15551577,   8.2674961 ,\n",
       "         9.25556983,   9.36054406,   8.86698918,   8.55883533,\n",
       "         8.96296788,   9.0182571 ,   9.29717122,   8.39212952,\n",
       "         8.03722552,   8.24896461,   9.90314742,   8.59112601,\n",
       "         8.54788971,   8.35972624,   8.3329715 ,   8.01448343,\n",
       "         9.02224151,   9.63025446,   9.1622798 ,   9.36073104,\n",
       "         8.29185383,   8.87836408,   8.92930885,   9.07960003,\n",
       "         8.03870631,   7.85899092,   9.28701776,   9.06989207,\n",
       "         8.95901207,   9.05169781,   8.95332112,   7.91854892,\n",
       "         8.78804091,   8.45016175,   8.65287018,   9.12183997,\n",
       "         9.11720167,   9.69010669,   8.61914776,   9.55468367,\n",
       "         8.33302191,   8.56625767,   8.46144558,   7.98151307,\n",
       "         8.3503702 ,   9.10282056,   8.97284167,   9.20829975,\n",
       "         8.33891459,   8.95540534,   7.90653008,   9.55943995,\n",
       "         8.96575821,   8.4621859 ,   7.97549608,   9.1438543 ,\n",
       "         8.77478637,   8.4677268 ,   9.335684  ,   8.91942724,\n",
       "         9.50522809,   9.24185573,   9.06340026,   7.57688335,\n",
       "         8.80588734,   8.27165447,   8.39295762,   7.67817667,\n",
       "         9.27275493,   9.78676882,   8.55604831,   8.21117037,\n",
       "         8.52974855,   8.70296129,  10.06797819,   8.72209843,\n",
       "         8.94865025,   9.37022933,   8.10044993,   7.62569329,\n",
       "         9.3196498 ,   9.22084756,   8.31421485,   8.84100716,\n",
       "         8.47068862,   8.9326014 ,   8.5512394 ,   8.7520822 ,\n",
       "         9.0702785 ,   8.77848447,   8.02462062,   9.29254853,\n",
       "         9.23864647,   8.39324784,  10.23632631,   8.32283761,\n",
       "         9.09113301,   9.53866028,   8.11577621,   8.87667278,\n",
       "         8.21725511,   8.9697464 ,   8.59458919,   8.13236982,\n",
       "         8.8858512 ,   9.00348815,   8.39783062,   8.87431468,\n",
       "         8.94141627,   7.82289798,   8.42101007,   8.78061878,\n",
       "         8.67161149,   8.67230121,   8.32121557,   8.54161321,\n",
       "         8.82288959,   7.72438755,   8.54433313,   8.36991211,\n",
       "         8.27626928,   9.65030781,   8.72264862,   8.16917539,\n",
       "         9.13785306,   8.93473116,   7.95746817,   7.93507697,\n",
       "         8.25291057,   7.86065818,   8.93670735,   8.94021206,\n",
       "         9.86370068,   8.47367461,   8.96619262,   8.8622869 ,\n",
       "         9.05441219,   8.69667547,   8.66707244,   8.21466196,\n",
       "         8.64447162,   8.11399791,   8.466257  ,   8.06743532,\n",
       "         8.86491245,   8.60664   ,   8.50051203,   8.32277124,\n",
       "         8.83855915,   8.64824858,   7.79000119,   7.99463637,\n",
       "         8.0924836 ,   8.5683111 ,   8.06322192,   8.57594226,\n",
       "         8.62481722,   9.13414501,   8.48841625,   8.99051759,\n",
       "         8.67864871,   8.57135438,   9.11427597,   8.47210429,\n",
       "         8.60578713,   8.76134037,   9.44909706,   9.24815476,\n",
       "         8.19137091,   9.00279477,   8.57009732,   8.06629567,\n",
       "         8.08804792,   9.117388  ,   8.76027154,   8.54029539,\n",
       "         8.86432246,   7.66672713,   8.29103533,   8.61508015,\n",
       "         8.55223088,   8.00430836,   8.94723882,   8.82034058,\n",
       "         8.95021904,   8.16454456,   7.5471564 ,   9.48626993,\n",
       "         8.53032543,   8.67774262,   8.90289375,   9.00629361,\n",
       "         8.97880441,   8.20321529,   8.67428479,   9.15680648,\n",
       "         8.43017442,   9.9720602 ,   9.16254218,   8.85071855,\n",
       "         8.34043706,   8.98362204,   9.19579314,   8.6143383 ,\n",
       "         9.16037187,   7.85707905,   8.97539887,   9.26085277,\n",
       "         7.87773048,   8.51135115,   8.89265763,   7.865719  ,\n",
       "         9.05866178,   8.74929011,   9.96924156,   8.79957328,\n",
       "         9.00511917,   8.3109978 ,   8.24908848,  10.07448492,\n",
       "         9.04830529,   9.0216816 ,   8.95365219,   8.3504828 ,\n",
       "         9.05728779,   9.23484264,  10.31067418,   8.02660428,\n",
       "         9.46517464,   8.46962871,   8.17888498,   9.11378754,\n",
       "         8.89320731,   9.18859801,   8.53032804,   9.24325412,\n",
       "         9.73623761,   7.86344422,   8.0098374 ,   8.42337784,\n",
       "         9.4807447 ,   8.86213902,   8.93462543,   9.62046792,\n",
       "         7.90694771,   8.35447783,   8.9622893 ,   8.56684628,\n",
       "         9.17017732,   7.89590379,   8.30960619,   8.00170195,\n",
       "         8.50326471,   8.48425457,   9.2484798 ,   9.03876772,\n",
       "         7.64320454,   8.5562512 ,   9.1505805 ,   9.20841765,\n",
       "         8.47899118,   9.10256272,   8.37633283,   9.18905255,\n",
       "         8.80034114,   9.13587604,   7.95839962,   8.22383636,\n",
       "         9.41679563,  10.37197679,   8.91160785,   8.83450937,\n",
       "         8.86160541,   9.77889126,   7.3540136 ,   7.91661442,\n",
       "         8.79534701,   8.00909921,   8.42929239,   9.07522051,\n",
       "         9.71617326,   9.04413703,   7.5029641 ,   8.02268604,\n",
       "         8.23920874,   9.09004211,   8.13510109,   8.980426  ,\n",
       "         8.40554873,   8.84704076,   8.59799386,   8.00204998,\n",
       "         9.64565086,   9.37793456,   8.91201151,   8.22994276,\n",
       "         9.1301631 ,   8.90228267,   8.9946096 ,   8.8831463 ,\n",
       "         8.50052357,   8.71818962,   9.07907824,   8.56331456,\n",
       "         9.00257367,   9.41525428,   8.06882091,   8.8466328 ,\n",
       "         8.92559498,   8.16455566,   9.07029707,   8.66144902,\n",
       "         8.36392132,   8.35908193,   8.5467303 ,   9.0597962 ,\n",
       "         8.66150552,   9.06099424,   9.15459352,   8.09749296,\n",
       "         8.64790946,   8.36649218,   8.96230766,   9.33603702,\n",
       "         8.98527879,   8.78186395,  10.19946012,   8.65312736,\n",
       "         8.63805802,   8.54134019,   8.38711753,   9.24231702,\n",
       "         8.61669225,   9.47522914,   8.67958714,   8.99467117,\n",
       "         8.02701946,   8.73127413,   8.84521562,   8.31583283,\n",
       "         7.70412764,   8.30801594,   9.2531983 ,   8.90287576,\n",
       "         8.2768205 ,   8.81051848,   9.02895534,   8.72527023,\n",
       "         9.43644149,   9.10789174,   8.75388406,   8.56229063,\n",
       "         8.62645151,   8.67664001,   8.50027685,   8.74221563,\n",
       "         8.38926137,   8.40447694,   8.71964238,   8.83325933,\n",
       "         9.0242157 ,   9.14198998,   9.69027696,   8.98434033,\n",
       "         9.38212557,   9.14786299,   9.16988807,   8.84590035,\n",
       "         8.66994207,   9.16302487,   8.34102161,   8.97539821,\n",
       "         8.57048411,   8.2554448 ,   8.69188911,   8.77056445,\n",
       "         8.54351378,   8.06525909,   8.35057128,   7.64326289,\n",
       "         8.9133634 ,   9.09431407,   8.56158895,   7.54861747,\n",
       "         8.61523342,   8.83869486,   8.71398696,   8.76817942,\n",
       "         8.28886448,   8.48357838,   8.27598506,   8.57025864,\n",
       "         7.63379239,   9.23400051,   7.75518145,   8.14568065,\n",
       "         9.92919444,   8.60481938,   9.08174948,   8.37597687,\n",
       "         8.79110237,   8.42439858,   9.31313666,   9.22019582,\n",
       "         8.46333222,   8.14004889,   8.75805606,   8.57457751,\n",
       "         8.37468282,   9.17166883,   8.85144101,   9.60109289,\n",
       "         8.39362552,   8.91072503,   8.48083744,   8.84837291,\n",
       "         9.38442083,   7.96654603,   8.9286842 ,   8.80862572,\n",
       "         9.60271358,   8.42434785,   9.05365878,   8.37969159,\n",
       "         9.02607823,   8.26918751,   8.55528435,   7.82570907,\n",
       "         9.16517148,   8.60799399,   8.19496258,   9.1588639 ,\n",
       "         9.10328905,   9.28646096,   8.74163051,   8.80353713,\n",
       "         7.86672996,   8.64255125,   8.73463625,   9.10388371,\n",
       "         9.38804902,   8.11190347,   8.08884454,   8.53612095,\n",
       "         8.44946236,   8.38344659,   8.78096364,   9.31663352,\n",
       "         8.6694348 ,   9.33346322,   9.43610492,   9.14426359,\n",
       "         8.98839977,   8.7441527 ,   8.12822893,   9.3562463 ,\n",
       "         9.31286182,   8.32439806,   8.66634428,   9.62307053,\n",
       "         8.55115494,   8.93634443,   8.67720399,   8.50983574,\n",
       "         9.33838459,   8.98604805,   8.59162338,   7.72737117,\n",
       "         7.95876172,   9.16483521,   7.82050715,   8.89047396,\n",
       "         9.37949965,   9.14095741,   8.93459632,   9.31092204,\n",
       "         9.54467356,   8.44649517,   8.51296001,   8.54101304,\n",
       "         8.73671938,   8.68452003,   9.58155104,   8.37722444,\n",
       "         9.12161212,   8.95831607,   9.23880427,   9.39467978,\n",
       "         9.23340326,   9.17914005,   9.17171458,   9.71215732,\n",
       "         8.30123767,   9.40935142,   8.93593091,   8.52001977,\n",
       "         9.18488735,   9.66757578,   9.02660416,   8.39662939,\n",
       "         8.54521967,   8.82902075,   8.34990471,   8.06125377,\n",
       "         9.01994604,   8.08985153,   8.66643339,   9.32802467,\n",
       "         8.24491379,   8.26654758,   8.93973475,   8.31766286,\n",
       "         8.5748478 ,   8.31366326,   9.04588159,   8.66171254,\n",
       "         8.7587447 ,   8.78683656,   8.8680732 ,   9.37982542,\n",
       "         9.4521433 ,   8.65240227,   8.62319677,   8.93666893,\n",
       "         9.16952643,   8.44956027,   8.78188054,   8.10362562,\n",
       "         8.22536397,   8.87410339,   8.45338958,   9.52643819,\n",
       "         8.62297977,   9.14886735,   8.27769839,   8.61715739,\n",
       "         8.62150683,   8.29454281,   8.19590502,   8.61222013,\n",
       "         9.51976369,   8.13426256,   9.88204256,   9.17020841,\n",
       "         9.26144738,   8.50130348,   8.04539923,   7.93063031,\n",
       "         7.40707599,   8.06099083,   8.74172947,   8.41096029,\n",
       "         8.4213528 ,   8.74419394,   8.52149161,   8.53915203,\n",
       "         8.94603623,   8.22403678,   9.10433025,   8.35287003,\n",
       "         9.77491978,   8.77983294,   8.66742808,   8.68712965,\n",
       "         8.51341283,   9.15528826,   7.42683052,   8.78608591,\n",
       "         9.10566079,   8.41691376,   8.51557888,   8.75252963,\n",
       "         8.34598401,   9.68363917,   9.38979583,   9.45678313,\n",
       "         7.42372593,   9.24894973,   8.82204176,   8.73105523,\n",
       "         8.74024264,   8.09810463,   8.37762718,   8.37638307,\n",
       "         7.95897512,   8.67511154,   8.71139423,   9.20487543,\n",
       "         8.69771259,   8.49744789,   8.97525914,   8.6197323 ,\n",
       "         9.06886866,   8.75862216,   9.01021489,   8.16538961,\n",
       "         7.93406795,   8.73812937,   9.11862959,   9.10751549,\n",
       "         7.48326083,   9.37085613,   9.33467963,   7.82964186,\n",
       "         9.13024536,   8.56638421,   8.18474469,   8.50771581,\n",
       "         8.8031987 ,   8.60222061,   8.77343652,   8.93859475,\n",
       "         9.99035639,   8.51850495,   8.88651342,   8.35339503,\n",
       "         8.06305738,   8.54488059,   9.03932301,   8.5985224 ,\n",
       "         9.2830341 ,   8.80516559,   8.46027246,   9.38118549,\n",
       "         8.32542995,   8.61858253,   8.77000841,   8.40931684,\n",
       "         8.75863744,   8.55350502,   8.4778281 ,   8.94062183,\n",
       "         8.35357773,   9.97347522,   8.30454231,   8.93286187,\n",
       "         8.35765113,   7.79418623,   9.63721094,   8.56302709,\n",
       "         8.11868568,   8.79966763,   8.85780844,   9.00550042,\n",
       "         8.34285576,  10.01393046,   8.42615196,   8.8674751 ,\n",
       "         8.98231499,   9.32172741,   8.61695889,   7.2730113 ,\n",
       "         9.07817433,   8.21860232,   9.75900758,   7.970918  ,\n",
       "         8.22276576,   8.32472705,   8.76981181,   8.26892142,\n",
       "         8.02439032,   9.20096957,   8.54851755,   7.77664519,\n",
       "         8.35913354,   8.80965392,   8.47625808,   8.34006489,\n",
       "         9.64250956,   8.72577879,   8.79746324,   8.81017692,\n",
       "         8.85325132,   9.34005252,   9.52648902,   8.45156976,\n",
       "         8.95677015,   8.9618582 ,   8.56356324,   8.4818193 ,\n",
       "         7.73032521,   9.27295894,   9.07551066,   8.13843032,\n",
       "         8.82719719,   8.95754822,   8.20050353,   7.69265121,\n",
       "         9.52384557,   7.94812608,   8.69613019,   8.24128309,\n",
       "         9.21101707,   8.73649225,   8.89653022,   9.31457564,\n",
       "         9.26404201,   8.93223665,   8.9503518 ,   9.06652084,\n",
       "         8.9782328 ,   7.89556941,   8.73250099,   8.79345971])"
      ]
     },
     "execution_count": 12,
     "metadata": {},
     "output_type": "execute_result"
    }
   ],
   "source": [
    "m = 1000\n",
    "boot_pop = np.array(data[\"Grade\"])\n",
    "\n",
    "boot_sample_std = bootstrap(boot_pop, np.std, simple_resample, replicates=m)\n",
    "\n",
    "# YOUR CODE HERE\n",
    "boot_sample_std"
   ]
  },
  {
   "cell_type": "code",
   "execution_count": 13,
   "metadata": {
    "deletable": false,
    "editable": false,
    "nbgrader": {
     "cell_type": "code",
     "checksum": "02e64e09cdddffa22419fb0c7aeec17f",
     "grade": true,
     "grade_id": "q2_test3",
     "locked": true,
     "points": 1,
     "schema_version": 2,
     "solution": false
    }
   },
   "outputs": [],
   "source": [
    "boot_mean_std = np.mean(boot_sample_std)\n",
    "boot_var_std = np.var(boot_sample_std)\n",
    "assert len(boot_sample_std) == m\n",
    "assert 7 < boot_mean_std < 10\n",
    "assert 0.23 < boot_var_std < 0.29"
   ]
  },
  {
   "cell_type": "code",
   "execution_count": 14,
   "metadata": {
    "deletable": false,
    "editable": false,
    "nbgrader": {
     "cell_type": "code",
     "checksum": "3b3b3d907049f426cca82ae9b321e656",
     "grade": false,
     "grade_id": "q2_plot2",
     "locked": true,
     "schema_version": 2,
     "solution": false
    }
   },
   "outputs": [
    {
     "data": {
      "text/plain": [
       "Text(0,0.5,'Frequency')"
      ]
     },
     "execution_count": 14,
     "metadata": {},
     "output_type": "execute_result"
    },
    {
     "data": {
      "image/png": "[encoded data removed]",
      "text/plain": [
       "<matplotlib.figure.Figure at 0x7f1cedbbc5c0>"
      ]
     },
     "metadata": {},
     "output_type": "display_data"
    }
   ],
   "source": [
    "sns.distplot(boot_sample_std)\n",
    "plt.xlabel(r\"$STD(X)$\")\n",
    "plt.ylabel(\"Frequency\")"
   ]
  },
  {
   "cell_type": "markdown",
   "metadata": {
    "deletable": false,
    "editable": false,
    "nbgrader": {
     "cell_type": "markdown",
     "checksum": "efd791fe80928eb529931a6f66455215",
     "grade": false,
     "grade_id": "q2_true",
     "locked": true,
     "schema_version": 2,
     "solution": false
    }
   },
   "source": [
    "The true mean for the midterm grade is 80.1, and the standard deviation is 9.20 Compare your results with them."
   ]
  },
  {
   "cell_type": "markdown",
   "metadata": {
    "deletable": false,
    "editable": false,
    "nbgrader": {
     "cell_type": "markdown",
     "checksum": "61d832f88001fb4cf3d44c4dd96bf647",
     "grade": false,
     "grade_id": "q3_text1",
     "locked": true,
     "schema_version": 2,
     "solution": false
    }
   },
   "source": [
    "### Question 3\n",
    "Now let's use the bootstrap method to analyze an estimator we used in the previous lab. \n",
    "\n",
    "Again, we use following mathematical model to predict Tips from TotalBill:\n",
    "\n",
    "$$\\Large\n",
    "\\texttt{Tip} = \\theta^*  \\times \\texttt{TotalBill}\n",
    "$$\n",
    "\n",
    "This follows the similar intuition that tips are some **unknown** percentage of the total bill.  We will then try to estimate the slope of this relationship which corresponds to the percent tip. Here the parameter $\\theta^*$ represents the true percent tip that we would like to estimate.\n",
    "\n",
    "As we already know, for L2 loss function:\n",
    "$$\\Large\n",
    "L\\left(\\theta, \\mathcal{D}\\right) = \\frac{1}{n} \\sum_{i=1}^n L(m_\\theta(x_i), y_i) = \\frac{1}{n} \\sum_{i=1}^n (\\theta *  x_i - y_i)^2\n",
    "$$\n",
    "\n",
    "Where, $x_i$ is the TotalBill, $y_i$ is the Tips.\n",
    "\n",
    "The optimal $\\theta$ would be:\n",
    "$$\\Large {\\theta} = \\frac{\\sum x_iy_i}{\\sum x_i^2}$$\n",
    "\n",
    "Let's use the bootstrap method to see what's the variance for this estimator.\n"
   ]
  },
  {
   "cell_type": "code",
   "execution_count": 15,
   "metadata": {
    "deletable": false,
    "editable": false,
    "nbgrader": {
     "cell_type": "code",
     "checksum": "8acd66937179f77a7939d65db70c63c2",
     "grade": false,
     "grade_id": "q3_setup1",
     "locked": true,
     "schema_version": 2,
     "solution": false
    }
   },
   "outputs": [
    {
     "data": {
      "text/html": [
       "<div>\n",
       "<style scoped>\n",
       "    .dataframe tbody tr th:only-of-type {\n",
       "        vertical-align: middle;\n",
       "    }\n",
       "\n",
       "    .dataframe tbody tr th {\n",
       "        vertical-align: top;\n",
       "    }\n",
       "\n",
       "    .dataframe thead th {\n",
       "        text-align: right;\n",
       "    }\n",
       "</style>\n",
       "<table border=\"1\" class=\"dataframe\">\n",
       "  <thead>\n",
       "    <tr style=\"text-align: right;\">\n",
       "      <th></th>\n",
       "      <th>total_bill</th>\n",
       "      <th>tip</th>\n",
       "      <th>sex</th>\n",
       "      <th>smoker</th>\n",
       "      <th>day</th>\n",
       "      <th>time</th>\n",
       "      <th>size</th>\n",
       "    </tr>\n",
       "  </thead>\n",
       "  <tbody>\n",
       "    <tr>\n",
       "      <th>0</th>\n",
       "      <td>16.99</td>\n",
       "      <td>1.01</td>\n",
       "      <td>Female</td>\n",
       "      <td>No</td>\n",
       "      <td>Sun</td>\n",
       "      <td>Dinner</td>\n",
       "      <td>2</td>\n",
       "    </tr>\n",
       "    <tr>\n",
       "      <th>1</th>\n",
       "      <td>10.34</td>\n",
       "      <td>1.66</td>\n",
       "      <td>Male</td>\n",
       "      <td>No</td>\n",
       "      <td>Sun</td>\n",
       "      <td>Dinner</td>\n",
       "      <td>3</td>\n",
       "    </tr>\n",
       "    <tr>\n",
       "      <th>2</th>\n",
       "      <td>21.01</td>\n",
       "      <td>3.50</td>\n",
       "      <td>Male</td>\n",
       "      <td>No</td>\n",
       "      <td>Sun</td>\n",
       "      <td>Dinner</td>\n",
       "      <td>3</td>\n",
       "    </tr>\n",
       "    <tr>\n",
       "      <th>3</th>\n",
       "      <td>23.68</td>\n",
       "      <td>3.31</td>\n",
       "      <td>Male</td>\n",
       "      <td>No</td>\n",
       "      <td>Sun</td>\n",
       "      <td>Dinner</td>\n",
       "      <td>2</td>\n",
       "    </tr>\n",
       "    <tr>\n",
       "      <th>4</th>\n",
       "      <td>24.59</td>\n",
       "      <td>3.61</td>\n",
       "      <td>Female</td>\n",
       "      <td>No</td>\n",
       "      <td>Sun</td>\n",
       "      <td>Dinner</td>\n",
       "      <td>4</td>\n",
       "    </tr>\n",
       "  </tbody>\n",
       "</table>\n",
       "</div>"
      ],
      "text/plain": [
       "   total_bill   tip     sex smoker  day    time  size\n",
       "0       16.99  1.01  Female     No  Sun  Dinner     2\n",
       "1       10.34  1.66    Male     No  Sun  Dinner     3\n",
       "2       21.01  3.50    Male     No  Sun  Dinner     3\n",
       "3       23.68  3.31    Male     No  Sun  Dinner     2\n",
       "4       24.59  3.61  Female     No  Sun  Dinner     4"
      ]
     },
     "execution_count": 15,
     "metadata": {},
     "output_type": "execute_result"
    }
   ],
   "source": [
    "data = sns.load_dataset(\"tips\")\n",
    "data.head()"
   ]
  },
  {
   "cell_type": "code",
   "execution_count": 16,
   "metadata": {
    "deletable": false,
    "editable": false,
    "nbgrader": {
     "cell_type": "code",
     "checksum": "87d8f5bdd2396406d20a573f2667f97a",
     "grade": false,
     "grade_id": "q3_setup2",
     "locked": true,
     "schema_version": 2,
     "solution": false
    }
   },
   "outputs": [
    {
     "data": {
      "text/plain": [
       "[<matplotlib.lines.Line2D at 0x7f1ceda14320>]"
      ]
     },
     "execution_count": 16,
     "metadata": {},
     "output_type": "execute_result"
    },
    {
     "data": {
      "image/png": "[encoded data removed]",
      "text/plain": [
       "<matplotlib.figure.Figure at 0x7f1ceda2ef28>"
      ]
     },
     "metadata": {},
     "output_type": "display_data"
    }
   ],
   "source": [
    "x = np.array(data[\"total_bill\"])\n",
    "y = np.array(data[\"tip\"])\n",
    "d = np.array((x,y)).transpose()\n",
    "plt.plot(d[:,0],d[:,1],\".\")"
   ]
  },
  {
   "cell_type": "markdown",
   "metadata": {
    "deletable": false,
    "editable": false,
    "nbgrader": {
     "cell_type": "markdown",
     "checksum": "a3ef1235f3d21c103ffa7aba2bcdaef5",
     "grade": false,
     "grade_id": "q3_text2",
     "locked": true,
     "schema_version": 2,
     "solution": false
    }
   },
   "source": [
    "Write an estimator function to compute $\\theta$ using the formula:  \n",
    "$$\\large {\\theta} = \\frac{\\sum x_iy_i}{\\sum x_i^2}$$\n",
    "\n",
    "Note that in order to do bootstrap, we need to combine `x`, `y` to into a $n*2$ array `d`. So `d[:,0]` is equivalent with `x` and `d[:,1]` is equivalent with `y`."
   ]
  },
  {
   "cell_type": "code",
   "execution_count": 17,
   "metadata": {
    "deletable": false,
    "nbgrader": {
     "cell_type": "code",
     "checksum": "d9390295ff93f785f8b6b841203b5726",
     "grade": false,
     "grade_id": "q3_code1",
     "locked": false,
     "schema_version": 2,
     "solution": true
    }
   },
   "outputs": [],
   "source": [
    "def estimator(d):\n",
    "    \"\"\"\n",
    "    Args:\n",
    "        d: A n*2 array which contains x and y. d[:,0] would be x, d[:,1] would be y.\n",
    "        \n",
    "    Returns:\n",
    "        The optimal theta for this dataset under L2 loss.\n",
    "    \"\"\"\n",
    "    # YOUR CODE HERE\n",
    "    x,y = d[:,0],d[:,1]\n",
    "    return np.sum(x*y)/np.sum(x*x)"
   ]
  },
  {
   "cell_type": "code",
   "execution_count": 18,
   "metadata": {
    "deletable": false,
    "editable": false,
    "nbgrader": {
     "cell_type": "code",
     "checksum": "d0a03a7c63a0c3894b3d7b11e61e2bf4",
     "grade": true,
     "grade_id": "q3_test1",
     "locked": true,
     "points": 1,
     "schema_version": 2,
     "solution": false
    }
   },
   "outputs": [],
   "source": [
    "assert np.isclose(estimator(d),0.14373189527721666)"
   ]
  },
  {
   "cell_type": "markdown",
   "metadata": {
    "deletable": false,
    "editable": false,
    "nbgrader": {
     "cell_type": "markdown",
     "checksum": "9115a8f6aff142f337851c05913c1b61",
     "grade": false,
     "grade_id": "q3_text3",
     "locked": true,
     "schema_version": 2,
     "solution": false
    }
   },
   "source": [
    "Now let's use our previous `bootstrap` function to obtain different estimated $\\theta$. You should use the `estimator` function as the `statistic` parameter."
   ]
  },
  {
   "cell_type": "code",
   "execution_count": 19,
   "metadata": {
    "deletable": false,
    "nbgrader": {
     "cell_type": "code",
     "checksum": "56e1b5edab6915b5e800d8e523d76321",
     "grade": false,
     "grade_id": "q3_code2",
     "locked": false,
     "schema_version": 2,
     "solution": true
    }
   },
   "outputs": [],
   "source": [
    "replicates = 1000\n",
    "boot_theta = bootstrap(d, estimator, simple_resample, replicates)\n",
    "\n",
    "# YOUR CODE HERE\n",
    "    "
   ]
  },
  {
   "cell_type": "code",
   "execution_count": 20,
   "metadata": {
    "deletable": false,
    "editable": false,
    "nbgrader": {
     "cell_type": "code",
     "checksum": "928102048c97931b340b1da87a856b64",
     "grade": true,
     "grade_id": "q3_test2",
     "locked": true,
     "points": 1,
     "schema_version": 2,
     "solution": false
    }
   },
   "outputs": [],
   "source": [
    "boot_theta_mean = np.mean(boot_theta)\n",
    "boot_theta_var = np.var(boot_theta)\n",
    "assert len(boot_theta) == replicates\n",
    "assert 0.14<=boot_theta_mean<=0.15\n",
    "assert boot_theta_var < 1e-4"
   ]
  },
  {
   "cell_type": "markdown",
   "metadata": {
    "deletable": false,
    "editable": false,
    "nbgrader": {
     "cell_type": "markdown",
     "checksum": "ed841cba660c7abf11720aa70e8738ec",
     "grade": false,
     "grade_id": "q3_text4",
     "locked": true,
     "schema_version": 2,
     "solution": false
    }
   },
   "source": [
    "Finally, let's plot the distribution of `boot_theta`."
   ]
  },
  {
   "cell_type": "code",
   "execution_count": 21,
   "metadata": {
    "deletable": false,
    "editable": false,
    "nbgrader": {
     "cell_type": "code",
     "checksum": "b2193899d04a28436e3e3c369023f532",
     "grade": false,
     "grade_id": "q3_plot",
     "locked": true,
     "schema_version": 2,
     "solution": false
    }
   },
   "outputs": [
    {
     "data": {
      "text/plain": [
       "<matplotlib.axes._subplots.AxesSubplot at 0x7f1cedb4a3c8>"
      ]
     },
     "execution_count": 21,
     "metadata": {},
     "output_type": "execute_result"
    },
    {
     "data": {
      "image/png": "[encoded data removed]",
      "text/plain": [
       "<matplotlib.figure.Figure at 0x7f1ceda73358>"
      ]
     },
     "metadata": {},
     "output_type": "display_data"
    }
   ],
   "source": [
    "sns.distplot(boot_theta)"
   ]
  },
  {
   "cell_type": "markdown",
   "metadata": {
    "deletable": false,
    "editable": false,
    "nbgrader": {
     "cell_type": "markdown",
     "checksum": "7d38676f303a718aff089714d1458bef",
     "grade": false,
     "grade_id": "solved",
     "locked": true,
     "schema_version": 2,
     "solution": false
    }
   },
   "source": [
    "## Submission\n",
    "\n",
    "Congrats! You are finished with this assignment. Please don't forget to submit by 11:59 pm!"
   ]
  }
 ],
 "metadata": {
  "anaconda-cloud": {},
  "kernelspec": {
   "display_name": "Python 3",
   "language": "python",
   "name": "python3"
  },
  "language_info": {
   "codemirror_mode": {
    "name": "ipython",
    "version": 3
   },
   "file_extension": ".py",
   "mimetype": "text/x-python",
   "name": "python",
   "nbconvert_exporter": "python",
   "pygments_lexer": "ipython3",
   "version": "3.6.4"
  }
 },
 "nbformat": 4,
 "nbformat_minor": 2
}
